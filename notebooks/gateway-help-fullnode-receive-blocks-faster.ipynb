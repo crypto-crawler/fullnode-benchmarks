{
 "cells": [
  {
   "cell_type": "markdown",
   "id": "96c46561-260c-4b55-86c0-cad3001b683f",
   "metadata": {
    "tags": []
   },
   "source": [
    "# Does the local gateway help the fullnode to receive blocks faster?\n",
    "\n",
    "This notebook compares blocks receiving speed between with and without gateways.\n",
    "\n",
    "Steps:\n",
    "\n",
    "* First, start a fullnode with a local bloXroute gateway, and run the [bloxroute_block](https://github.com/crypto-crawler/fullnode-benchmarks/blob/main/cmd/bloxroute/block/bloxroute_block.go) and [fullnode_block](https://github.com/crypto-crawler/fullnode-benchmarks/blob/main/cmd/fullnode/block/fullnode_block.go) to collect data\n",
    "* Second, stop the local gateway, and run `bloxroute_block` and `fullnode_block` to collect data again\n",
    "* Substract the `received_at` timestamp of blocks with the same hash, we get to know the gap between with and without gateway.\n",
    "\n",
    "Note: Make sure the BSC fullnode is fully synced before this benchmark, type `eth.syncing` in geth console and make sure it is `faluse`, which means the fullnode is synced.\n",
    "\n",
    "Hardware:\n",
    "\n",
    "* A machine with 128 cores, 256GB memory in a Fremont IDC\n",
    "* A `m5zn.3xlarge` instance in AWS Virginia regon\n",
    "\n",
    "Files:\n",
    "\n",
    "* `bloxroute-block-cloud-fremont-with-gateway.json.gz`, `bloxroute-block-cloud-virginia-with-gateway.json.gz`, `fullnode-block-fremont-with-gateway.json.gz` and `fullnode-block-virginia-with-gateway.json.gz` are generated in step 1\n",
    "* `bloxroute-block-cloud-fremont-without-gateway.json.gz`, `bloxroute-block-cloud-virginia-without-gateway.json.gz`, `fullnode-block-fremont-without-gateway.json.gz` and `fullnode-block-virginia-without-gateway.json.gz` are generated in step 2"
   ]
  },
  {
   "cell_type": "code",
   "execution_count": 1,
   "id": "a0afe14d-dbc2-4996-8e78-fa56045ead12",
   "metadata": {},
   "outputs": [],
   "source": [
    "import gzip\n",
    "import json\n",
    "import pandas as pd\n",
    "from typing import Dict"
   ]
  },
  {
   "cell_type": "code",
   "execution_count": 2,
   "id": "e8203b27-e2c2-4d14-aea5-3eab9a9ac3ca",
   "metadata": {},
   "outputs": [],
   "source": [
    "pd.io.json._json.loads = lambda s, *a, **kw: json.loads(s)"
   ]
  },
  {
   "cell_type": "code",
   "execution_count": 3,
   "id": "77d1e90b-ca40-4f49-9e76-2cf303e02587",
   "metadata": {},
   "outputs": [],
   "source": [
    "def read_timestamp(file: str) -> Dict[str, int]:\n",
    "    result: Dict[str, int] = {}  # hash -> received_at\n",
    "    f_in = gzip.open(file, \"rt\") if file.endswith('.json.gz') else open(file, \"rt\")\n",
    "    with f_in:\n",
    "        for line in f_in:\n",
    "            obj = json.loads(line)\n",
    "            if 'received_at' in obj and 'hash' in obj:\n",
    "                result[obj['hash']] = obj['received_at']\n",
    "    return result"
   ]
  },
  {
   "cell_type": "code",
   "execution_count": 4,
   "id": "7cd1bac6-89b7-4bb9-86ba-f055c96b50f0",
   "metadata": {},
   "outputs": [],
   "source": [
    "def compare_timestamp(file1: str, file2: str) -> pd.DataFrame:\n",
    "    dict1 = read_timestamp(file1)\n",
    "    dict2 = read_timestamp(file2)\n",
    "    diff = {}\n",
    "    for tx_hash, received_at in dict1.items():\n",
    "        if tx_hash in dict2:\n",
    "            diff[tx_hash] = received_at-dict2[tx_hash]\n",
    "    \n",
    "    df = pd.DataFrame(diff.items(), columns=['tx_hash', 'gap'])\n",
    "    # remove outliers\n",
    "    quantile05 = df['gap'].quantile(0.05)\n",
    "    quantile95 = df['gap'].quantile(0.95)\n",
    "    return df[(df['gap'] >= quantile05) & (df['gap']<=quantile95)]"
   ]
  },
  {
   "cell_type": "markdown",
   "id": "d97a80f4-5e72-4686-865a-914bc0a79c85",
   "metadata": {},
   "source": [
    "## In Fremont IDC"
   ]
  },
  {
   "cell_type": "code",
   "execution_count": 5,
   "id": "0eca36ce-14c9-4fa3-8aac-24710be7df1d",
   "metadata": {},
   "outputs": [
    {
     "data": {
      "text/html": [
       "<div>\n",
       "<style scoped>\n",
       "    .dataframe tbody tr th:only-of-type {\n",
       "        vertical-align: middle;\n",
       "    }\n",
       "\n",
       "    .dataframe tbody tr th {\n",
       "        vertical-align: top;\n",
       "    }\n",
       "\n",
       "    .dataframe thead th {\n",
       "        text-align: right;\n",
       "    }\n",
       "</style>\n",
       "<table border=\"1\" class=\"dataframe\">\n",
       "  <thead>\n",
       "    <tr style=\"text-align: right;\">\n",
       "      <th></th>\n",
       "      <th>gap</th>\n",
       "    </tr>\n",
       "  </thead>\n",
       "  <tbody>\n",
       "    <tr>\n",
       "      <th>count</th>\n",
       "      <td>7614.000000</td>\n",
       "    </tr>\n",
       "    <tr>\n",
       "      <th>mean</th>\n",
       "      <td>-951.281849</td>\n",
       "    </tr>\n",
       "    <tr>\n",
       "      <th>std</th>\n",
       "      <td>337.746817</td>\n",
       "    </tr>\n",
       "    <tr>\n",
       "      <th>min</th>\n",
       "      <td>-1600.000000</td>\n",
       "    </tr>\n",
       "    <tr>\n",
       "      <th>25%</th>\n",
       "      <td>-1145.000000</td>\n",
       "    </tr>\n",
       "    <tr>\n",
       "      <th>50%</th>\n",
       "      <td>-1016.500000</td>\n",
       "    </tr>\n",
       "    <tr>\n",
       "      <th>75%</th>\n",
       "      <td>-840.000000</td>\n",
       "    </tr>\n",
       "    <tr>\n",
       "      <th>max</th>\n",
       "      <td>-129.000000</td>\n",
       "    </tr>\n",
       "  </tbody>\n",
       "</table>\n",
       "</div>"
      ],
      "text/plain": [
       "               gap\n",
       "count  7614.000000\n",
       "mean   -951.281849\n",
       "std     337.746817\n",
       "min   -1600.000000\n",
       "25%   -1145.000000\n",
       "50%   -1016.500000\n",
       "75%    -840.000000\n",
       "max    -129.000000"
      ]
     },
     "execution_count": 5,
     "metadata": {},
     "output_type": "execute_result"
    }
   ],
   "source": [
    "compare_timestamp('./data/bloxroute-block-cloud-fremont-without-gateway.json.gz', './data/fullnode-block-fremont-without-gateway.json.gz').describe()"
   ]
  },
  {
   "cell_type": "code",
   "execution_count": 6,
   "id": "a8d27205-8329-4d4f-b178-9d48a6de350e",
   "metadata": {},
   "outputs": [
    {
     "data": {
      "text/html": [
       "<div>\n",
       "<style scoped>\n",
       "    .dataframe tbody tr th:only-of-type {\n",
       "        vertical-align: middle;\n",
       "    }\n",
       "\n",
       "    .dataframe tbody tr th {\n",
       "        vertical-align: top;\n",
       "    }\n",
       "\n",
       "    .dataframe thead th {\n",
       "        text-align: right;\n",
       "    }\n",
       "</style>\n",
       "<table border=\"1\" class=\"dataframe\">\n",
       "  <thead>\n",
       "    <tr style=\"text-align: right;\">\n",
       "      <th></th>\n",
       "      <th>gap</th>\n",
       "    </tr>\n",
       "  </thead>\n",
       "  <tbody>\n",
       "    <tr>\n",
       "      <th>count</th>\n",
       "      <td>8065.000000</td>\n",
       "    </tr>\n",
       "    <tr>\n",
       "      <th>mean</th>\n",
       "      <td>-192.666460</td>\n",
       "    </tr>\n",
       "    <tr>\n",
       "      <th>std</th>\n",
       "      <td>111.773782</td>\n",
       "    </tr>\n",
       "    <tr>\n",
       "      <th>min</th>\n",
       "      <td>-692.000000</td>\n",
       "    </tr>\n",
       "    <tr>\n",
       "      <th>25%</th>\n",
       "      <td>-228.000000</td>\n",
       "    </tr>\n",
       "    <tr>\n",
       "      <th>50%</th>\n",
       "      <td>-160.000000</td>\n",
       "    </tr>\n",
       "    <tr>\n",
       "      <th>75%</th>\n",
       "      <td>-119.000000</td>\n",
       "    </tr>\n",
       "    <tr>\n",
       "      <th>max</th>\n",
       "      <td>-52.000000</td>\n",
       "    </tr>\n",
       "  </tbody>\n",
       "</table>\n",
       "</div>"
      ],
      "text/plain": [
       "               gap\n",
       "count  8065.000000\n",
       "mean   -192.666460\n",
       "std     111.773782\n",
       "min    -692.000000\n",
       "25%    -228.000000\n",
       "50%    -160.000000\n",
       "75%    -119.000000\n",
       "max     -52.000000"
      ]
     },
     "execution_count": 6,
     "metadata": {},
     "output_type": "execute_result"
    }
   ],
   "source": [
    "compare_timestamp('./data/bloxroute-block-cloud-fremont-with-gateway.json.gz', './data/fullnode-block-fremont-with-gateway.json.gz').describe()"
   ]
  },
  {
   "cell_type": "markdown",
   "id": "5719fa21-8691-4e2b-a9c0-0f9644b30b9c",
   "metadata": {},
   "source": [
    "**Conclusion: Without a local gateway the gap between the fullnode and bloXroute cloud is 1016ms, while with a local gateway the gap reduces to 160ms, so the local gateway obviously helps the local fullnode receive blocks faster!**"
   ]
  },
  {
   "cell_type": "markdown",
   "id": "7254292d-04fc-4f8d-b976-5992116770a3",
   "metadata": {},
   "source": [
    "**Conclusion: The cloud API is 1016ms faster than the fullnode without gateway, and 160ms faster than the fullnode with a local gateway, which means the fullnode is 856ms faster after a local gateway is running.**"
   ]
  },
  {
   "cell_type": "markdown",
   "id": "bf15ac61-f8a4-4a1a-8476-3db658f00a60",
   "metadata": {},
   "source": [
    "## In AWS Virginia"
   ]
  },
  {
   "cell_type": "code",
   "execution_count": 7,
   "id": "17149ae5-7be1-4d69-8335-afb0c097bfa2",
   "metadata": {},
   "outputs": [
    {
     "data": {
      "text/html": [
       "<div>\n",
       "<style scoped>\n",
       "    .dataframe tbody tr th:only-of-type {\n",
       "        vertical-align: middle;\n",
       "    }\n",
       "\n",
       "    .dataframe tbody tr th {\n",
       "        vertical-align: top;\n",
       "    }\n",
       "\n",
       "    .dataframe thead th {\n",
       "        text-align: right;\n",
       "    }\n",
       "</style>\n",
       "<table border=\"1\" class=\"dataframe\">\n",
       "  <thead>\n",
       "    <tr style=\"text-align: right;\">\n",
       "      <th></th>\n",
       "      <th>gap</th>\n",
       "    </tr>\n",
       "  </thead>\n",
       "  <tbody>\n",
       "    <tr>\n",
       "      <th>count</th>\n",
       "      <td>7602.000000</td>\n",
       "    </tr>\n",
       "    <tr>\n",
       "      <th>mean</th>\n",
       "      <td>-443.515917</td>\n",
       "    </tr>\n",
       "    <tr>\n",
       "      <th>std</th>\n",
       "      <td>287.117700</td>\n",
       "    </tr>\n",
       "    <tr>\n",
       "      <th>min</th>\n",
       "      <td>-1467.000000</td>\n",
       "    </tr>\n",
       "    <tr>\n",
       "      <th>25%</th>\n",
       "      <td>-534.000000</td>\n",
       "    </tr>\n",
       "    <tr>\n",
       "      <th>50%</th>\n",
       "      <td>-347.000000</td>\n",
       "    </tr>\n",
       "    <tr>\n",
       "      <th>75%</th>\n",
       "      <td>-243.000000</td>\n",
       "    </tr>\n",
       "    <tr>\n",
       "      <th>max</th>\n",
       "      <td>-131.000000</td>\n",
       "    </tr>\n",
       "  </tbody>\n",
       "</table>\n",
       "</div>"
      ],
      "text/plain": [
       "               gap\n",
       "count  7602.000000\n",
       "mean   -443.515917\n",
       "std     287.117700\n",
       "min   -1467.000000\n",
       "25%    -534.000000\n",
       "50%    -347.000000\n",
       "75%    -243.000000\n",
       "max    -131.000000"
      ]
     },
     "execution_count": 7,
     "metadata": {},
     "output_type": "execute_result"
    }
   ],
   "source": [
    "compare_timestamp('./data/bloxroute-block-cloud-virginia-without-gateway.json.gz', './data/fullnode-block-virginia-without-gateway.json.gz').describe()"
   ]
  },
  {
   "cell_type": "code",
   "execution_count": 8,
   "id": "fd58b708-e8c5-4048-91c0-78f2880bacc9",
   "metadata": {},
   "outputs": [
    {
     "data": {
      "text/html": [
       "<div>\n",
       "<style scoped>\n",
       "    .dataframe tbody tr th:only-of-type {\n",
       "        vertical-align: middle;\n",
       "    }\n",
       "\n",
       "    .dataframe tbody tr th {\n",
       "        vertical-align: top;\n",
       "    }\n",
       "\n",
       "    .dataframe thead th {\n",
       "        text-align: right;\n",
       "    }\n",
       "</style>\n",
       "<table border=\"1\" class=\"dataframe\">\n",
       "  <thead>\n",
       "    <tr style=\"text-align: right;\">\n",
       "      <th></th>\n",
       "      <th>gap</th>\n",
       "    </tr>\n",
       "  </thead>\n",
       "  <tbody>\n",
       "    <tr>\n",
       "      <th>count</th>\n",
       "      <td>8066.000000</td>\n",
       "    </tr>\n",
       "    <tr>\n",
       "      <th>mean</th>\n",
       "      <td>-424.814034</td>\n",
       "    </tr>\n",
       "    <tr>\n",
       "      <th>std</th>\n",
       "      <td>262.458800</td>\n",
       "    </tr>\n",
       "    <tr>\n",
       "      <th>min</th>\n",
       "      <td>-1511.000000</td>\n",
       "    </tr>\n",
       "    <tr>\n",
       "      <th>25%</th>\n",
       "      <td>-506.000000</td>\n",
       "    </tr>\n",
       "    <tr>\n",
       "      <th>50%</th>\n",
       "      <td>-344.000000</td>\n",
       "    </tr>\n",
       "    <tr>\n",
       "      <th>75%</th>\n",
       "      <td>-246.000000</td>\n",
       "    </tr>\n",
       "    <tr>\n",
       "      <th>max</th>\n",
       "      <td>-139.000000</td>\n",
       "    </tr>\n",
       "  </tbody>\n",
       "</table>\n",
       "</div>"
      ],
      "text/plain": [
       "               gap\n",
       "count  8066.000000\n",
       "mean   -424.814034\n",
       "std     262.458800\n",
       "min   -1511.000000\n",
       "25%    -506.000000\n",
       "50%    -344.000000\n",
       "75%    -246.000000\n",
       "max    -139.000000"
      ]
     },
     "execution_count": 8,
     "metadata": {},
     "output_type": "execute_result"
    }
   ],
   "source": [
    "compare_timestamp('./data/bloxroute-block-cloud-virginia-with-gateway.json.gz', './data/fullnode-block-virginia-with-gateway.json.gz').describe()"
   ]
  },
  {
   "cell_type": "markdown",
   "id": "da529588-1bec-4da1-b868-a95671eb68cf",
   "metadata": {},
   "source": [
    "**Conclusion: The cloud API is 347ms faster than the fullnode without gateway, and 344ms faster than the fullnode with a local gateway, which means the fullnode is 8ms faster after a local gateway is running.**"
   ]
  },
  {
   "cell_type": "markdown",
   "id": "6e7d8da0-9a8c-4953-a6d7-5422a78e2d51",
   "metadata": {},
   "source": [
    "## Compare two fullnodes"
   ]
  },
  {
   "cell_type": "code",
   "execution_count": 9,
   "id": "df505041-65b3-4ad5-9960-e85a28226f38",
   "metadata": {},
   "outputs": [
    {
     "data": {
      "text/html": [
       "<div>\n",
       "<style scoped>\n",
       "    .dataframe tbody tr th:only-of-type {\n",
       "        vertical-align: middle;\n",
       "    }\n",
       "\n",
       "    .dataframe tbody tr th {\n",
       "        vertical-align: top;\n",
       "    }\n",
       "\n",
       "    .dataframe thead th {\n",
       "        text-align: right;\n",
       "    }\n",
       "</style>\n",
       "<table border=\"1\" class=\"dataframe\">\n",
       "  <thead>\n",
       "    <tr style=\"text-align: right;\">\n",
       "      <th></th>\n",
       "      <th>gap</th>\n",
       "    </tr>\n",
       "  </thead>\n",
       "  <tbody>\n",
       "    <tr>\n",
       "      <th>count</th>\n",
       "      <td>7595.000000</td>\n",
       "    </tr>\n",
       "    <tr>\n",
       "      <th>mean</th>\n",
       "      <td>-508.390388</td>\n",
       "    </tr>\n",
       "    <tr>\n",
       "      <th>std</th>\n",
       "      <td>405.706073</td>\n",
       "    </tr>\n",
       "    <tr>\n",
       "      <th>min</th>\n",
       "      <td>-1185.000000</td>\n",
       "    </tr>\n",
       "    <tr>\n",
       "      <th>25%</th>\n",
       "      <td>-818.000000</td>\n",
       "    </tr>\n",
       "    <tr>\n",
       "      <th>50%</th>\n",
       "      <td>-632.000000</td>\n",
       "    </tr>\n",
       "    <tr>\n",
       "      <th>75%</th>\n",
       "      <td>-228.000000</td>\n",
       "    </tr>\n",
       "    <tr>\n",
       "      <th>max</th>\n",
       "      <td>561.000000</td>\n",
       "    </tr>\n",
       "  </tbody>\n",
       "</table>\n",
       "</div>"
      ],
      "text/plain": [
       "               gap\n",
       "count  7595.000000\n",
       "mean   -508.390388\n",
       "std     405.706073\n",
       "min   -1185.000000\n",
       "25%    -818.000000\n",
       "50%    -632.000000\n",
       "75%    -228.000000\n",
       "max     561.000000"
      ]
     },
     "execution_count": 9,
     "metadata": {},
     "output_type": "execute_result"
    }
   ],
   "source": [
    "compare_timestamp('./data/fullnode-block-virginia-without-gateway.json.gz', './data/fullnode-block-fremont-without-gateway.json.gz').describe()"
   ]
  },
  {
   "cell_type": "code",
   "execution_count": 10,
   "id": "becb2c43-85fb-4333-b8a0-3641c157603d",
   "metadata": {},
   "outputs": [
    {
     "data": {
      "text/html": [
       "<div>\n",
       "<style scoped>\n",
       "    .dataframe tbody tr th:only-of-type {\n",
       "        vertical-align: middle;\n",
       "    }\n",
       "\n",
       "    .dataframe tbody tr th {\n",
       "        vertical-align: top;\n",
       "    }\n",
       "\n",
       "    .dataframe thead th {\n",
       "        text-align: right;\n",
       "    }\n",
       "</style>\n",
       "<table border=\"1\" class=\"dataframe\">\n",
       "  <thead>\n",
       "    <tr style=\"text-align: right;\">\n",
       "      <th></th>\n",
       "      <th>gap</th>\n",
       "    </tr>\n",
       "  </thead>\n",
       "  <tbody>\n",
       "    <tr>\n",
       "      <th>count</th>\n",
       "      <td>8125.000000</td>\n",
       "    </tr>\n",
       "    <tr>\n",
       "      <th>mean</th>\n",
       "      <td>200.232123</td>\n",
       "    </tr>\n",
       "    <tr>\n",
       "      <th>std</th>\n",
       "      <td>197.873855</td>\n",
       "    </tr>\n",
       "    <tr>\n",
       "      <th>min</th>\n",
       "      <td>-68.000000</td>\n",
       "    </tr>\n",
       "    <tr>\n",
       "      <th>25%</th>\n",
       "      <td>71.000000</td>\n",
       "    </tr>\n",
       "    <tr>\n",
       "      <th>50%</th>\n",
       "      <td>144.000000</td>\n",
       "    </tr>\n",
       "    <tr>\n",
       "      <th>75%</th>\n",
       "      <td>261.000000</td>\n",
       "    </tr>\n",
       "    <tr>\n",
       "      <th>max</th>\n",
       "      <td>1062.000000</td>\n",
       "    </tr>\n",
       "  </tbody>\n",
       "</table>\n",
       "</div>"
      ],
      "text/plain": [
       "               gap\n",
       "count  8125.000000\n",
       "mean    200.232123\n",
       "std     197.873855\n",
       "min     -68.000000\n",
       "25%      71.000000\n",
       "50%     144.000000\n",
       "75%     261.000000\n",
       "max    1062.000000"
      ]
     },
     "execution_count": 10,
     "metadata": {},
     "output_type": "execute_result"
    }
   ],
   "source": [
    "compare_timestamp('./data/fullnode-block-virginia-with-gateway.json.gz', './data/fullnode-block-fremont-with-gateway.json.gz').describe()"
   ]
  },
  {
   "cell_type": "markdown",
   "id": "54daa13f-7a81-47d8-8407-67293a7995b9",
   "metadata": {},
   "source": [
    "**Conclusion: Without local gateways, the fullnode in Fremont is 632ms slower than the fullnode in AWS virginia, after a local gateway is up and running, the Fremont fullnode is 144ms faster than the Virginia one!**"
   ]
  },
  {
   "cell_type": "markdown",
   "id": "f6badace-5cb1-41df-a066-1eaf6f62ba95",
   "metadata": {},
   "source": [
    "## Conclusion"
   ]
  },
  {
   "cell_type": "markdown",
   "id": "d7741929-3251-49df-a75d-a415978a3a01",
   "metadata": {},
   "source": [
    "**Overall, this benchmark shows that the local gateway DOES help the local fullnode receive blocks faster, but if your fullnode is syncing fast enough, the local gateway can NOT help much.**"
   ]
  }
 ],
 "metadata": {
  "kernelspec": {
   "display_name": "Python 3 (ipykernel)",
   "language": "python",
   "name": "python3"
  },
  "language_info": {
   "codemirror_mode": {
    "name": "ipython",
    "version": 3
   },
   "file_extension": ".py",
   "mimetype": "text/x-python",
   "name": "python",
   "nbconvert_exporter": "python",
   "pygments_lexer": "ipython3",
   "version": "3.8.11"
  }
 },
 "nbformat": 4,
 "nbformat_minor": 5
}
