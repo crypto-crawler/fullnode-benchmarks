{
 "cells": [
  {
   "cell_type": "markdown",
   "id": "96c46561-260c-4b55-86c0-cad3001b683f",
   "metadata": {
    "tags": []
   },
   "source": [
    "# Does the local gateway help the fullnode to receive pending transactions faster?\n",
    "\n",
    "This notebook compares pending transactions receiving speed between with and without gateways.\n",
    "\n",
    "Steps:\n",
    "\n",
    "* First, start a fullnode with a local bloXroute gateway, and run the [bloxroute_tx](https://github.com/crypto-crawler/fullnode-benchmarks/blob/main/cmd/bloxroute/tx/bloxroute_tx.go) and [fullnode_tx](https://github.com/crypto-crawler/fullnode-benchmarks/blob/main/cmd/fullnode/tx/fullnode_tx.go) to collect data\n",
    "* Second, stop the local gateway, and run `bloxroute_tx` and `fullnode_tx` to collect data again\n",
    "* Substract the `received_at` timestamp of txs with the same hash, we get to know the gap between with and without gateway.\n",
    "\n",
    "Note: Make sure the BSC fullnode is fully synced before this benchmark, type `eth.syncing` in geth console and make sure it is `faluse`, which means the fullnode is synced.\n",
    "\n",
    "Hardware:\n",
    "\n",
    "* A machine with 128 cores, 256GB memory in a Fremont IDC\n",
    "* A `m5zn.3xlarge` instance in AWS Virginia regon\n",
    "\n",
    "Files:\n",
    "\n",
    "* `bloxroute-newtxs-cloud-fremont-with-gateway.json.gz`, `bloxroute-newtxs-cloud-virginia-with-gateway.json.gz`, `fullnode-tx-fremont-with-gateway.json.gz` and `fullnode-tx-virginia-with-gateway.json.gz` are generated in step 1\n",
    "* `bloxroute-newtxs-cloud-fremont-without-gateway.json.gz`, `bloxroute-newtxs-cloud-virginia-without-gateway.json.gz`, `fullnode-tx-fremont-without-gateway.json.gz` and `fullnode-tx-virginia-without-gateway.json.gz` are generated in step 2"
   ]
  },
  {
   "cell_type": "code",
   "execution_count": 2,
   "id": "a0afe14d-dbc2-4996-8e78-fa56045ead12",
   "metadata": {},
   "outputs": [],
   "source": [
    "import gzip\n",
    "import json\n",
    "import pandas as pd\n",
    "from typing import Dict"
   ]
  },
  {
   "cell_type": "code",
   "execution_count": 3,
   "id": "e8203b27-e2c2-4d14-aea5-3eab9a9ac3ca",
   "metadata": {},
   "outputs": [],
   "source": [
    "pd.io.json._json.loads = lambda s, *a, **kw: json.loads(s)"
   ]
  },
  {
   "cell_type": "code",
   "execution_count": 4,
   "id": "77d1e90b-ca40-4f49-9e76-2cf303e02587",
   "metadata": {},
   "outputs": [],
   "source": [
    "def read_timestamp(file: str) -> Dict[str, int]:\n",
    "    result: Dict[str, int] = {}  # hash -> received_at\n",
    "    f_in = gzip.open(file, \"rt\") if file.endswith('.json.gz') else open(file, \"rt\")\n",
    "    with f_in:\n",
    "        for line in f_in:\n",
    "            obj = json.loads(line)\n",
    "            if 'received_at' in obj:\n",
    "                if 'hash' in obj:  # fullnode\n",
    "                    result[obj['hash']] = obj['received_at']\n",
    "                elif 'txHash' in obj:  # bloXroute\n",
    "                    result[obj['txHash']] = obj['received_at']\n",
    "                else:\n",
    "                    raise ValueError(line)\n",
    "    return result"
   ]
  },
  {
   "cell_type": "code",
   "execution_count": 5,
   "id": "7cd1bac6-89b7-4bb9-86ba-f055c96b50f0",
   "metadata": {},
   "outputs": [],
   "source": [
    "def compare_timestamp(file1: str, file2: str) -> pd.DataFrame:\n",
    "    dict1 = read_timestamp(file1)\n",
    "    dict2 = read_timestamp(file2)\n",
    "    diff = {}\n",
    "    for tx_hash, received_at in dict1.items():\n",
    "        if tx_hash in dict2:\n",
    "            diff[tx_hash] = received_at-dict2[tx_hash]\n",
    "    \n",
    "    df = pd.DataFrame(diff.items(), columns=['tx_hash', 'gap'])\n",
    "    # remove outliers\n",
    "    quantile05 = df['gap'].quantile(0.05)\n",
    "    quantile95 = df['gap'].quantile(0.95)\n",
    "    return df[(df['gap'] >= quantile05) & (df['gap']<=quantile95)]"
   ]
  },
  {
   "cell_type": "markdown",
   "id": "d97a80f4-5e72-4686-865a-914bc0a79c85",
   "metadata": {},
   "source": [
    "## In Fremont IDC"
   ]
  },
  {
   "cell_type": "code",
   "execution_count": 10,
   "id": "0eca36ce-14c9-4fa3-8aac-24710be7df1d",
   "metadata": {},
   "outputs": [
    {
     "data": {
      "text/html": [
       "<div>\n",
       "<style scoped>\n",
       "    .dataframe tbody tr th:only-of-type {\n",
       "        vertical-align: middle;\n",
       "    }\n",
       "\n",
       "    .dataframe tbody tr th {\n",
       "        vertical-align: top;\n",
       "    }\n",
       "\n",
       "    .dataframe thead th {\n",
       "        text-align: right;\n",
       "    }\n",
       "</style>\n",
       "<table border=\"1\" class=\"dataframe\">\n",
       "  <thead>\n",
       "    <tr style=\"text-align: right;\">\n",
       "      <th></th>\n",
       "      <th>gap</th>\n",
       "    </tr>\n",
       "  </thead>\n",
       "  <tbody>\n",
       "    <tr>\n",
       "      <th>count</th>\n",
       "      <td>144345.000000</td>\n",
       "    </tr>\n",
       "    <tr>\n",
       "      <th>mean</th>\n",
       "      <td>-133.604046</td>\n",
       "    </tr>\n",
       "    <tr>\n",
       "      <th>std</th>\n",
       "      <td>186.355508</td>\n",
       "    </tr>\n",
       "    <tr>\n",
       "      <th>min</th>\n",
       "      <td>-621.000000</td>\n",
       "    </tr>\n",
       "    <tr>\n",
       "      <th>25%</th>\n",
       "      <td>-111.000000</td>\n",
       "    </tr>\n",
       "    <tr>\n",
       "      <th>50%</th>\n",
       "      <td>-65.000000</td>\n",
       "    </tr>\n",
       "    <tr>\n",
       "      <th>75%</th>\n",
       "      <td>-13.000000</td>\n",
       "    </tr>\n",
       "    <tr>\n",
       "      <th>max</th>\n",
       "      <td>24.000000</td>\n",
       "    </tr>\n",
       "  </tbody>\n",
       "</table>\n",
       "</div>"
      ],
      "text/plain": [
       "                 gap\n",
       "count  144345.000000\n",
       "mean     -133.604046\n",
       "std       186.355508\n",
       "min      -621.000000\n",
       "25%      -111.000000\n",
       "50%       -65.000000\n",
       "75%       -13.000000\n",
       "max        24.000000"
      ]
     },
     "execution_count": 10,
     "metadata": {},
     "output_type": "execute_result"
    }
   ],
   "source": [
    "compare_timestamp('./data/bloxroute-newtxs-cloud-fremont-without-gateway.json.gz', './data/fullnode-tx-fremont-without-gateway.json.gz').describe()"
   ]
  },
  {
   "cell_type": "code",
   "execution_count": 11,
   "id": "a8d27205-8329-4d4f-b178-9d48a6de350e",
   "metadata": {},
   "outputs": [
    {
     "data": {
      "text/html": [
       "<div>\n",
       "<style scoped>\n",
       "    .dataframe tbody tr th:only-of-type {\n",
       "        vertical-align: middle;\n",
       "    }\n",
       "\n",
       "    .dataframe tbody tr th {\n",
       "        vertical-align: top;\n",
       "    }\n",
       "\n",
       "    .dataframe thead th {\n",
       "        text-align: right;\n",
       "    }\n",
       "</style>\n",
       "<table border=\"1\" class=\"dataframe\">\n",
       "  <thead>\n",
       "    <tr style=\"text-align: right;\">\n",
       "      <th></th>\n",
       "      <th>gap</th>\n",
       "    </tr>\n",
       "  </thead>\n",
       "  <tbody>\n",
       "    <tr>\n",
       "      <th>count</th>\n",
       "      <td>142864.000000</td>\n",
       "    </tr>\n",
       "    <tr>\n",
       "      <th>mean</th>\n",
       "      <td>-116.179996</td>\n",
       "    </tr>\n",
       "    <tr>\n",
       "      <th>std</th>\n",
       "      <td>174.895064</td>\n",
       "    </tr>\n",
       "    <tr>\n",
       "      <th>min</th>\n",
       "      <td>-612.000000</td>\n",
       "    </tr>\n",
       "    <tr>\n",
       "      <th>25%</th>\n",
       "      <td>-98.000000</td>\n",
       "    </tr>\n",
       "    <tr>\n",
       "      <th>50%</th>\n",
       "      <td>-52.000000</td>\n",
       "    </tr>\n",
       "    <tr>\n",
       "      <th>75%</th>\n",
       "      <td>-6.000000</td>\n",
       "    </tr>\n",
       "    <tr>\n",
       "      <th>max</th>\n",
       "      <td>26.000000</td>\n",
       "    </tr>\n",
       "  </tbody>\n",
       "</table>\n",
       "</div>"
      ],
      "text/plain": [
       "                 gap\n",
       "count  142864.000000\n",
       "mean     -116.179996\n",
       "std       174.895064\n",
       "min      -612.000000\n",
       "25%       -98.000000\n",
       "50%       -52.000000\n",
       "75%        -6.000000\n",
       "max        26.000000"
      ]
     },
     "execution_count": 11,
     "metadata": {},
     "output_type": "execute_result"
    }
   ],
   "source": [
    "compare_timestamp('./data/bloxroute-newtxs-cloud-fremont-with-gateway.json.gz', './data/fullnode-tx-fremont-with-gateway.json.gz').describe()"
   ]
  },
  {
   "cell_type": "markdown",
   "id": "0c98b6cc-64c1-48dd-bed0-0aa005a9daa3",
   "metadata": {},
   "source": [
    "**Conclusion: The cloud API is 65ms faster than the fullnode without gateway, and 52ms faster than the fullnode with a gateway, which means the fullnode is 13ms faster after the local gateway is running.**"
   ]
  },
  {
   "cell_type": "markdown",
   "id": "bf15ac61-f8a4-4a1a-8476-3db658f00a60",
   "metadata": {},
   "source": [
    "## In AWS Virginia"
   ]
  },
  {
   "cell_type": "code",
   "execution_count": 12,
   "id": "17149ae5-7be1-4d69-8335-afb0c097bfa2",
   "metadata": {},
   "outputs": [
    {
     "data": {
      "text/html": [
       "<div>\n",
       "<style scoped>\n",
       "    .dataframe tbody tr th:only-of-type {\n",
       "        vertical-align: middle;\n",
       "    }\n",
       "\n",
       "    .dataframe tbody tr th {\n",
       "        vertical-align: top;\n",
       "    }\n",
       "\n",
       "    .dataframe thead th {\n",
       "        text-align: right;\n",
       "    }\n",
       "</style>\n",
       "<table border=\"1\" class=\"dataframe\">\n",
       "  <thead>\n",
       "    <tr style=\"text-align: right;\">\n",
       "      <th></th>\n",
       "      <th>gap</th>\n",
       "    </tr>\n",
       "  </thead>\n",
       "  <tbody>\n",
       "    <tr>\n",
       "      <th>count</th>\n",
       "      <td>144477.000000</td>\n",
       "    </tr>\n",
       "    <tr>\n",
       "      <th>mean</th>\n",
       "      <td>-227.121895</td>\n",
       "    </tr>\n",
       "    <tr>\n",
       "      <th>std</th>\n",
       "      <td>214.747226</td>\n",
       "    </tr>\n",
       "    <tr>\n",
       "      <th>min</th>\n",
       "      <td>-609.000000</td>\n",
       "    </tr>\n",
       "    <tr>\n",
       "      <th>25%</th>\n",
       "      <td>-451.000000</td>\n",
       "    </tr>\n",
       "    <tr>\n",
       "      <th>50%</th>\n",
       "      <td>-144.000000</td>\n",
       "    </tr>\n",
       "    <tr>\n",
       "      <th>75%</th>\n",
       "      <td>-19.000000</td>\n",
       "    </tr>\n",
       "    <tr>\n",
       "      <th>max</th>\n",
       "      <td>32.000000</td>\n",
       "    </tr>\n",
       "  </tbody>\n",
       "</table>\n",
       "</div>"
      ],
      "text/plain": [
       "                 gap\n",
       "count  144477.000000\n",
       "mean     -227.121895\n",
       "std       214.747226\n",
       "min      -609.000000\n",
       "25%      -451.000000\n",
       "50%      -144.000000\n",
       "75%       -19.000000\n",
       "max        32.000000"
      ]
     },
     "execution_count": 12,
     "metadata": {},
     "output_type": "execute_result"
    }
   ],
   "source": [
    "compare_timestamp('./data/bloxroute-newtxs-cloud-virginia-without-gateway.json.gz', './data/fullnode-tx-virginia-without-gateway.json.gz').describe()"
   ]
  },
  {
   "cell_type": "code",
   "execution_count": 13,
   "id": "fd58b708-e8c5-4048-91c0-78f2880bacc9",
   "metadata": {},
   "outputs": [
    {
     "data": {
      "text/html": [
       "<div>\n",
       "<style scoped>\n",
       "    .dataframe tbody tr th:only-of-type {\n",
       "        vertical-align: middle;\n",
       "    }\n",
       "\n",
       "    .dataframe tbody tr th {\n",
       "        vertical-align: top;\n",
       "    }\n",
       "\n",
       "    .dataframe thead th {\n",
       "        text-align: right;\n",
       "    }\n",
       "</style>\n",
       "<table border=\"1\" class=\"dataframe\">\n",
       "  <thead>\n",
       "    <tr style=\"text-align: right;\">\n",
       "      <th></th>\n",
       "      <th>gap</th>\n",
       "    </tr>\n",
       "  </thead>\n",
       "  <tbody>\n",
       "    <tr>\n",
       "      <th>count</th>\n",
       "      <td>143942.000000</td>\n",
       "    </tr>\n",
       "    <tr>\n",
       "      <th>mean</th>\n",
       "      <td>-214.868211</td>\n",
       "    </tr>\n",
       "    <tr>\n",
       "      <th>std</th>\n",
       "      <td>213.300921</td>\n",
       "    </tr>\n",
       "    <tr>\n",
       "      <th>min</th>\n",
       "      <td>-599.000000</td>\n",
       "    </tr>\n",
       "    <tr>\n",
       "      <th>25%</th>\n",
       "      <td>-443.000000</td>\n",
       "    </tr>\n",
       "    <tr>\n",
       "      <th>50%</th>\n",
       "      <td>-116.000000</td>\n",
       "    </tr>\n",
       "    <tr>\n",
       "      <th>75%</th>\n",
       "      <td>-10.000000</td>\n",
       "    </tr>\n",
       "    <tr>\n",
       "      <th>max</th>\n",
       "      <td>17.000000</td>\n",
       "    </tr>\n",
       "  </tbody>\n",
       "</table>\n",
       "</div>"
      ],
      "text/plain": [
       "                 gap\n",
       "count  143942.000000\n",
       "mean     -214.868211\n",
       "std       213.300921\n",
       "min      -599.000000\n",
       "25%      -443.000000\n",
       "50%      -116.000000\n",
       "75%       -10.000000\n",
       "max        17.000000"
      ]
     },
     "execution_count": 13,
     "metadata": {},
     "output_type": "execute_result"
    }
   ],
   "source": [
    "compare_timestamp('./data/bloxroute-newtxs-cloud-virginia-with-gateway.json.gz', './data/fullnode-tx-virginia-with-gateway.json.gz').describe()"
   ]
  },
  {
   "cell_type": "markdown",
   "id": "da529588-1bec-4da1-b868-a95671eb68cf",
   "metadata": {},
   "source": [
    "**Conclusion: Without a local gateway the gap between the fullnode and bloXroute cloud is 144ms, while with a local gateway the gap reduces to 116ms, so the local gateway obviously helps the local fullnode receive transactions faster!**"
   ]
  },
  {
   "cell_type": "markdown",
   "id": "98b986bb-e16c-4695-81ec-070d12ab8394",
   "metadata": {},
   "source": [
    "**Conclusion: The cloud API is 144ms faster than the fullnode without gateway, and 116ms faster than the fullnode with a gateway, which means the fullnode is 28ms faster after the local gateway is running.**"
   ]
  },
  {
   "cell_type": "markdown",
   "id": "3414ebe2-d6a8-4a92-aec8-bc9dbeaaa841",
   "metadata": {},
   "source": [
    "## Compare two gateways"
   ]
  },
  {
   "cell_type": "code",
   "execution_count": 16,
   "id": "a90a84ef-ad9f-4113-aad7-8588e829dab5",
   "metadata": {},
   "outputs": [
    {
     "data": {
      "text/html": [
       "<div>\n",
       "<style scoped>\n",
       "    .dataframe tbody tr th:only-of-type {\n",
       "        vertical-align: middle;\n",
       "    }\n",
       "\n",
       "    .dataframe tbody tr th {\n",
       "        vertical-align: top;\n",
       "    }\n",
       "\n",
       "    .dataframe thead th {\n",
       "        text-align: right;\n",
       "    }\n",
       "</style>\n",
       "<table border=\"1\" class=\"dataframe\">\n",
       "  <thead>\n",
       "    <tr style=\"text-align: right;\">\n",
       "      <th></th>\n",
       "      <th>gap</th>\n",
       "    </tr>\n",
       "  </thead>\n",
       "  <tbody>\n",
       "    <tr>\n",
       "      <th>count</th>\n",
       "      <td>150142.000000</td>\n",
       "    </tr>\n",
       "    <tr>\n",
       "      <th>mean</th>\n",
       "      <td>-6.567643</td>\n",
       "    </tr>\n",
       "    <tr>\n",
       "      <th>std</th>\n",
       "      <td>8.363417</td>\n",
       "    </tr>\n",
       "    <tr>\n",
       "      <th>min</th>\n",
       "      <td>-16.000000</td>\n",
       "    </tr>\n",
       "    <tr>\n",
       "      <th>25%</th>\n",
       "      <td>-12.000000</td>\n",
       "    </tr>\n",
       "    <tr>\n",
       "      <th>50%</th>\n",
       "      <td>-10.000000</td>\n",
       "    </tr>\n",
       "    <tr>\n",
       "      <th>75%</th>\n",
       "      <td>-4.000000</td>\n",
       "    </tr>\n",
       "    <tr>\n",
       "      <th>max</th>\n",
       "      <td>15.000000</td>\n",
       "    </tr>\n",
       "  </tbody>\n",
       "</table>\n",
       "</div>"
      ],
      "text/plain": [
       "                 gap\n",
       "count  150142.000000\n",
       "mean       -6.567643\n",
       "std         8.363417\n",
       "min       -16.000000\n",
       "25%       -12.000000\n",
       "50%       -10.000000\n",
       "75%        -4.000000\n",
       "max        15.000000"
      ]
     },
     "execution_count": 16,
     "metadata": {},
     "output_type": "execute_result"
    }
   ],
   "source": [
    "compare_timestamp('./data/bloxroute-newtxs-gateway-virginia.json.gz', './data/bloxroute-newtxs-gateway-fremont.json.gz').describe()"
   ]
  },
  {
   "cell_type": "markdown",
   "id": "78a04c5c-873a-4d7b-ac9f-0c545a2d9bee",
   "metadata": {},
   "source": [
    "**Conclusion: The gateway in AWS Virginia is 10ms faster than the one in Fremont, because there are some bloXroute relay nodes in AWS, so the gateway in AWS Virginia is closer to relay nodes.**"
   ]
  },
  {
   "cell_type": "markdown",
   "id": "d7741929-3251-49df-a75d-a415978a3a01",
   "metadata": {},
   "source": [
    "**Overall, this benchmark shows that the local gateway DOES help the fullnode receive pending transactions faster.**"
   ]
  },
  {
   "cell_type": "markdown",
   "id": "8e77fb33-b299-4cef-a50c-94b9e78a56fc",
   "metadata": {},
   "source": [
    "Gaps: Virginia gateway -> 1ms -> Virginia Cloud -> 10ms -> Fremont gateway -> 0 -> Fremont Cloud -> 52ms -> Fremont fullnode with gateway -> 12ms -> Virginia fullnode with gateway"
   ]
  }
 ],
 "metadata": {
  "kernelspec": {
   "display_name": "Python 3 (ipykernel)",
   "language": "python",
   "name": "python3"
  },
  "language_info": {
   "codemirror_mode": {
    "name": "ipython",
    "version": 3
   },
   "file_extension": ".py",
   "mimetype": "text/x-python",
   "name": "python",
   "nbconvert_exporter": "python",
   "pygments_lexer": "ipython3",
   "version": "3.8.11"
  }
 },
 "nbformat": 4,
 "nbformat_minor": 5
}
