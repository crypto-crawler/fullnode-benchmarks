{
 "cells": [
  {
   "cell_type": "markdown",
   "id": "61e708bb-e83c-44bf-8eff-0e81937517db",
   "metadata": {},
   "source": [
    "# Comparing Pancakeswap GetReserves() Speed\n",
    "\n",
    "This notebook compares the speed of `GetReserves()` between bloXroute cloud API and standard fullnodes.\n",
    "\n",
    "Start a fullnode without a local gateway, and run [fullnode_pair_reserve](https://github.com/crypto-crawler/fullnode-benchmarks/blob/main/cmd/fullnode/pair_reserve/fullnode_pair_reserve.go) and [bloxroute_pair_reserve](https://github.com/crypto-crawler/fullnode-benchmarks/blob/main/cmd/bloxroute/pair_reserve/bloxroute_pair_reserve.go) commands to collect data.\n",
    "\n",
    "Note: Make sure the BSC fullnode is fully synced before this benchmark, type `eth.syncing` in geth console and make sure it is `faluse`, which means the fullnode is synced.\n",
    "\n",
    "Hardware:\n",
    "\n",
    "* A machine with 128 cores, 256GB memory in Fremont IDC, running a BSC fullnode without a local bloXroute gateway\n",
    "* A `m5zn.3xlarge` instance in AWS Virginia regon, running a BSC fullnode without a local bloXroute gateway"
   ]
  },
  {
   "cell_type": "code",
   "execution_count": 1,
   "id": "5d0b35ab-c264-4766-8921-672ca6064e4d",
   "metadata": {},
   "outputs": [],
   "source": [
    "import gzip\n",
    "import json\n",
    "import pandas as pd\n",
    "from typing import Dict"
   ]
  },
  {
   "cell_type": "code",
   "execution_count": 2,
   "id": "901c48d9-8f7a-4059-af7d-1fd1413dba61",
   "metadata": {},
   "outputs": [],
   "source": [
    "pd.io.json._json.loads = lambda s, *a, **kw: json.loads(s)"
   ]
  },
  {
   "cell_type": "code",
   "execution_count": 3,
   "id": "167cdfe0-f485-41a3-9cbe-b094e58740dc",
   "metadata": {},
   "outputs": [],
   "source": [
    "def read_timestamp(file: str) -> Dict[int, int]:\n",
    "    result: Dict[str, int] = {}  # hash -> received_at\n",
    "    f_in = gzip.open(file, \"rt\") if file.endswith('.json.gz') else open(file, \"rt\")\n",
    "    with f_in:\n",
    "        for line in f_in:\n",
    "            obj = json.loads(line)\n",
    "            hash_code = hash(obj['pair'] + obj['reserve0'] + obj['reserve1'] + str(obj['block_number']))\n",
    "            result[hash_code] = obj['received_at']\n",
    "    return result"
   ]
  },
  {
   "cell_type": "code",
   "execution_count": 4,
   "id": "6ea77cd0-9333-4b02-a060-9b040c7956f0",
   "metadata": {},
   "outputs": [],
   "source": [
    "def compare_timestamp(file1: str, file2: str) -> pd.DataFrame:\n",
    "    dict1 = read_timestamp(file1)\n",
    "    dict2 = read_timestamp(file2)\n",
    "    diff = {}\n",
    "    for hash_code, received_at in dict1.items():\n",
    "        if hash_code in dict2:\n",
    "            diff[hash_code] = received_at-dict2[hash_code]\n",
    "    \n",
    "    df = pd.DataFrame(diff.items(), columns=['hash_code', 'gap'])\n",
    "    # remove outliers\n",
    "    quantile05 = df['gap'].quantile(0.05)\n",
    "    quantile95 = df['gap'].quantile(0.95)\n",
    "    return df[(df['gap'] >= quantile05) & (df['gap']<=quantile95)]"
   ]
  },
  {
   "cell_type": "markdown",
   "id": "aac03261-6642-4630-8a55-030a27f113de",
   "metadata": {},
   "source": [
    "## 1. Compare the fullnode and Cloud API in Fremont\n",
    "\n",
    "The is a fullnode in Fremont IDC, and `fullnode_pair_reserve` pulls data from the fullnode periodically, and `bloxroute_pair_reserve` subscribes to the `ethOnBlock` stream from Fremont."
   ]
  },
  {
   "cell_type": "code",
   "execution_count": 5,
   "id": "2146049a-f1a0-464c-ab64-11aead070a58",
   "metadata": {},
   "outputs": [
    {
     "data": {
      "text/html": [
       "<div>\n",
       "<style scoped>\n",
       "    .dataframe tbody tr th:only-of-type {\n",
       "        vertical-align: middle;\n",
       "    }\n",
       "\n",
       "    .dataframe tbody tr th {\n",
       "        vertical-align: top;\n",
       "    }\n",
       "\n",
       "    .dataframe thead th {\n",
       "        text-align: right;\n",
       "    }\n",
       "</style>\n",
       "<table border=\"1\" class=\"dataframe\">\n",
       "  <thead>\n",
       "    <tr style=\"text-align: right;\">\n",
       "      <th></th>\n",
       "      <th>hash_code</th>\n",
       "      <th>gap</th>\n",
       "    </tr>\n",
       "  </thead>\n",
       "  <tbody>\n",
       "    <tr>\n",
       "      <th>count</th>\n",
       "      <td>2.689400e+04</td>\n",
       "      <td>26894.000000</td>\n",
       "    </tr>\n",
       "    <tr>\n",
       "      <th>mean</th>\n",
       "      <td>7.723354e+14</td>\n",
       "      <td>-479.474492</td>\n",
       "    </tr>\n",
       "    <tr>\n",
       "      <th>std</th>\n",
       "      <td>5.309797e+18</td>\n",
       "      <td>332.465344</td>\n",
       "    </tr>\n",
       "    <tr>\n",
       "      <th>min</th>\n",
       "      <td>-9.223323e+18</td>\n",
       "      <td>-1368.000000</td>\n",
       "    </tr>\n",
       "    <tr>\n",
       "      <th>25%</th>\n",
       "      <td>-4.615890e+18</td>\n",
       "      <td>-669.000000</td>\n",
       "    </tr>\n",
       "    <tr>\n",
       "      <th>50%</th>\n",
       "      <td>2.088149e+16</td>\n",
       "      <td>-551.000000</td>\n",
       "    </tr>\n",
       "    <tr>\n",
       "      <th>75%</th>\n",
       "      <td>4.573181e+18</td>\n",
       "      <td>-367.000000</td>\n",
       "    </tr>\n",
       "    <tr>\n",
       "      <th>max</th>\n",
       "      <td>9.223147e+18</td>\n",
       "      <td>322.000000</td>\n",
       "    </tr>\n",
       "  </tbody>\n",
       "</table>\n",
       "</div>"
      ],
      "text/plain": [
       "          hash_code           gap\n",
       "count  2.689400e+04  26894.000000\n",
       "mean   7.723354e+14   -479.474492\n",
       "std    5.309797e+18    332.465344\n",
       "min   -9.223323e+18  -1368.000000\n",
       "25%   -4.615890e+18   -669.000000\n",
       "50%    2.088149e+16   -551.000000\n",
       "75%    4.573181e+18   -367.000000\n",
       "max    9.223147e+18    322.000000"
      ]
     },
     "execution_count": 5,
     "metadata": {},
     "output_type": "execute_result"
    }
   ],
   "source": [
    "compare_timestamp('./data/bloxroute-pair-reserve-cloud-fremont.json.gz', './data/fullnode-pair-reserve-fremont.json.gz').describe()"
   ]
  },
  {
   "cell_type": "markdown",
   "id": "b8001fed-55bc-491a-8a92-0630a4f0859e",
   "metadata": {},
   "source": [
    "**Conclusion: the cloud API in 551ms faster than the local fullnode in Fremont**"
   ]
  },
  {
   "cell_type": "markdown",
   "id": "3c78b163-8c1c-41e0-93d1-119794c3cfe3",
   "metadata": {},
   "source": [
    "## 2. Compare the fullnode and Cloud API in AWS Virginia\n",
    "\n",
    "The is a fullnode in AWS Virginia region, and `fullnode_pair_reserve` pulls data from the fullnode periodically, and `bloxroute_pair_reserve` subscribes to the `ethOnBlock` stream from Fremont."
   ]
  },
  {
   "cell_type": "code",
   "execution_count": 6,
   "id": "58ffb0ea-cce5-42de-bd7f-08db4cb77e08",
   "metadata": {},
   "outputs": [
    {
     "data": {
      "text/html": [
       "<div>\n",
       "<style scoped>\n",
       "    .dataframe tbody tr th:only-of-type {\n",
       "        vertical-align: middle;\n",
       "    }\n",
       "\n",
       "    .dataframe tbody tr th {\n",
       "        vertical-align: top;\n",
       "    }\n",
       "\n",
       "    .dataframe thead th {\n",
       "        text-align: right;\n",
       "    }\n",
       "</style>\n",
       "<table border=\"1\" class=\"dataframe\">\n",
       "  <thead>\n",
       "    <tr style=\"text-align: right;\">\n",
       "      <th></th>\n",
       "      <th>hash_code</th>\n",
       "      <th>gap</th>\n",
       "    </tr>\n",
       "  </thead>\n",
       "  <tbody>\n",
       "    <tr>\n",
       "      <th>count</th>\n",
       "      <td>2.754000e+04</td>\n",
       "      <td>27540.000000</td>\n",
       "    </tr>\n",
       "    <tr>\n",
       "      <th>mean</th>\n",
       "      <td>2.336288e+15</td>\n",
       "      <td>-639.175563</td>\n",
       "    </tr>\n",
       "    <tr>\n",
       "      <th>std</th>\n",
       "      <td>5.312855e+18</td>\n",
       "      <td>824.880215</td>\n",
       "    </tr>\n",
       "    <tr>\n",
       "      <th>min</th>\n",
       "      <td>-9.223323e+18</td>\n",
       "      <td>-5119.000000</td>\n",
       "    </tr>\n",
       "    <tr>\n",
       "      <th>25%</th>\n",
       "      <td>-4.616191e+18</td>\n",
       "      <td>-893.000000</td>\n",
       "    </tr>\n",
       "    <tr>\n",
       "      <th>50%</th>\n",
       "      <td>6.614838e+15</td>\n",
       "      <td>-331.000000</td>\n",
       "    </tr>\n",
       "    <tr>\n",
       "      <th>75%</th>\n",
       "      <td>4.603770e+18</td>\n",
       "      <td>-120.000000</td>\n",
       "    </tr>\n",
       "    <tr>\n",
       "      <th>max</th>\n",
       "      <td>9.223147e+18</td>\n",
       "      <td>428.000000</td>\n",
       "    </tr>\n",
       "  </tbody>\n",
       "</table>\n",
       "</div>"
      ],
      "text/plain": [
       "          hash_code           gap\n",
       "count  2.754000e+04  27540.000000\n",
       "mean   2.336288e+15   -639.175563\n",
       "std    5.312855e+18    824.880215\n",
       "min   -9.223323e+18  -5119.000000\n",
       "25%   -4.616191e+18   -893.000000\n",
       "50%    6.614838e+15   -331.000000\n",
       "75%    4.603770e+18   -120.000000\n",
       "max    9.223147e+18    428.000000"
      ]
     },
     "execution_count": 6,
     "metadata": {},
     "output_type": "execute_result"
    }
   ],
   "source": [
    "compare_timestamp('./data/bloxroute-pair-reserve-cloud-virginia.json.gz', './data/fullnode-pair-reserve-virginia.json.gz').describe()"
   ]
  },
  {
   "cell_type": "markdown",
   "id": "c318bbd8-7576-4af2-b6f1-a40145038b4e",
   "metadata": {},
   "source": [
    "**Conclusion: the cloud API in 331ms faster than the local fullnode in Fremont**"
   ]
  },
  {
   "cell_type": "markdown",
   "id": "9c803ce7-648c-4e86-9a23-5fff7d5b78f9",
   "metadata": {},
   "source": [
    "## 3. Accessing cloud APIs from different locations"
   ]
  },
  {
   "cell_type": "code",
   "execution_count": 7,
   "id": "4f7d0894-a5de-4bf6-b35e-63153561aa75",
   "metadata": {},
   "outputs": [
    {
     "data": {
      "text/html": [
       "<div>\n",
       "<style scoped>\n",
       "    .dataframe tbody tr th:only-of-type {\n",
       "        vertical-align: middle;\n",
       "    }\n",
       "\n",
       "    .dataframe tbody tr th {\n",
       "        vertical-align: top;\n",
       "    }\n",
       "\n",
       "    .dataframe thead th {\n",
       "        text-align: right;\n",
       "    }\n",
       "</style>\n",
       "<table border=\"1\" class=\"dataframe\">\n",
       "  <thead>\n",
       "    <tr style=\"text-align: right;\">\n",
       "      <th></th>\n",
       "      <th>hash_code</th>\n",
       "      <th>gap</th>\n",
       "    </tr>\n",
       "  </thead>\n",
       "  <tbody>\n",
       "    <tr>\n",
       "      <th>count</th>\n",
       "      <td>2.640900e+04</td>\n",
       "      <td>26409.000000</td>\n",
       "    </tr>\n",
       "    <tr>\n",
       "      <th>mean</th>\n",
       "      <td>-7.243110e+15</td>\n",
       "      <td>-251.515430</td>\n",
       "    </tr>\n",
       "    <tr>\n",
       "      <th>std</th>\n",
       "      <td>5.313338e+18</td>\n",
       "      <td>161.963195</td>\n",
       "    </tr>\n",
       "    <tr>\n",
       "      <th>min</th>\n",
       "      <td>-9.223323e+18</td>\n",
       "      <td>-424.000000</td>\n",
       "    </tr>\n",
       "    <tr>\n",
       "      <th>25%</th>\n",
       "      <td>-4.636276e+18</td>\n",
       "      <td>-336.000000</td>\n",
       "    </tr>\n",
       "    <tr>\n",
       "      <th>50%</th>\n",
       "      <td>1.651374e+16</td>\n",
       "      <td>-297.000000</td>\n",
       "    </tr>\n",
       "    <tr>\n",
       "      <th>75%</th>\n",
       "      <td>4.578457e+18</td>\n",
       "      <td>-236.000000</td>\n",
       "    </tr>\n",
       "    <tr>\n",
       "      <th>max</th>\n",
       "      <td>9.223147e+18</td>\n",
       "      <td>686.000000</td>\n",
       "    </tr>\n",
       "  </tbody>\n",
       "</table>\n",
       "</div>"
      ],
      "text/plain": [
       "          hash_code           gap\n",
       "count  2.640900e+04  26409.000000\n",
       "mean  -7.243110e+15   -251.515430\n",
       "std    5.313338e+18    161.963195\n",
       "min   -9.223323e+18   -424.000000\n",
       "25%   -4.636276e+18   -336.000000\n",
       "50%    1.651374e+16   -297.000000\n",
       "75%    4.578457e+18   -236.000000\n",
       "max    9.223147e+18    686.000000"
      ]
     },
     "execution_count": 7,
     "metadata": {},
     "output_type": "execute_result"
    }
   ],
   "source": [
    "compare_timestamp('./data/bloxroute-pair-reserve-cloud-virginia.json.gz', './data/bloxroute-pair-reserve-cloud-fremont.json.gz').describe()"
   ]
  },
  {
   "cell_type": "markdown",
   "id": "757fdc26-3de2-4739-8537-b9850d7210c6",
   "metadata": {},
   "source": [
    "**Conclusion: Accessing the cloud API from AWS Virginia is 297ms faster from Fremont, because the bloXroute websocket server `wss://virginia.bsc.blxrbdn.com/ws` is in AWS Virginia region**"
   ]
  },
  {
   "cell_type": "markdown",
   "id": "ea279cc0-4c9b-4896-a26d-9f64f6d530a5",
   "metadata": {},
   "source": [
    "## 4. Compare two fullnodes"
   ]
  },
  {
   "cell_type": "code",
   "execution_count": 8,
   "id": "52b9d9c1-db0a-449f-942a-5088f1274d5c",
   "metadata": {},
   "outputs": [
    {
     "data": {
      "text/html": [
       "<div>\n",
       "<style scoped>\n",
       "    .dataframe tbody tr th:only-of-type {\n",
       "        vertical-align: middle;\n",
       "    }\n",
       "\n",
       "    .dataframe tbody tr th {\n",
       "        vertical-align: top;\n",
       "    }\n",
       "\n",
       "    .dataframe thead th {\n",
       "        text-align: right;\n",
       "    }\n",
       "</style>\n",
       "<table border=\"1\" class=\"dataframe\">\n",
       "  <thead>\n",
       "    <tr style=\"text-align: right;\">\n",
       "      <th></th>\n",
       "      <th>hash_code</th>\n",
       "      <th>gap</th>\n",
       "    </tr>\n",
       "  </thead>\n",
       "  <tbody>\n",
       "    <tr>\n",
       "      <th>count</th>\n",
       "      <td>2.804200e+04</td>\n",
       "      <td>28042.000000</td>\n",
       "    </tr>\n",
       "    <tr>\n",
       "      <th>mean</th>\n",
       "      <td>2.650828e+15</td>\n",
       "      <td>-60.257756</td>\n",
       "    </tr>\n",
       "    <tr>\n",
       "      <th>std</th>\n",
       "      <td>5.322216e+18</td>\n",
       "      <td>853.672150</td>\n",
       "    </tr>\n",
       "    <tr>\n",
       "      <th>min</th>\n",
       "      <td>-9.223323e+18</td>\n",
       "      <td>-953.000000</td>\n",
       "    </tr>\n",
       "    <tr>\n",
       "      <th>25%</th>\n",
       "      <td>-4.627704e+18</td>\n",
       "      <td>-674.000000</td>\n",
       "    </tr>\n",
       "    <tr>\n",
       "      <th>50%</th>\n",
       "      <td>4.498959e+15</td>\n",
       "      <td>-263.000000</td>\n",
       "    </tr>\n",
       "    <tr>\n",
       "      <th>75%</th>\n",
       "      <td>4.611167e+18</td>\n",
       "      <td>226.000000</td>\n",
       "    </tr>\n",
       "    <tr>\n",
       "      <th>max</th>\n",
       "      <td>9.223147e+18</td>\n",
       "      <td>4288.000000</td>\n",
       "    </tr>\n",
       "  </tbody>\n",
       "</table>\n",
       "</div>"
      ],
      "text/plain": [
       "          hash_code           gap\n",
       "count  2.804200e+04  28042.000000\n",
       "mean   2.650828e+15    -60.257756\n",
       "std    5.322216e+18    853.672150\n",
       "min   -9.223323e+18   -953.000000\n",
       "25%   -4.627704e+18   -674.000000\n",
       "50%    4.498959e+15   -263.000000\n",
       "75%    4.611167e+18    226.000000\n",
       "max    9.223147e+18   4288.000000"
      ]
     },
     "execution_count": 8,
     "metadata": {},
     "output_type": "execute_result"
    }
   ],
   "source": [
    "compare_timestamp('./data/fullnode-pair-reserve-virginia.json.gz', './data/fullnode-pair-reserve-fremont.json.gz').describe()"
   ]
  },
  {
   "cell_type": "markdown",
   "id": "4c37e0db-f387-4180-85e1-ff315feee390",
   "metadata": {},
   "source": [
    "**Conclusion: The fullnode in AWS Virginia is 263ms faster than the fullnode in Fremont, because many BSC validator nodes are running in AWS Virginia region, therefore the fullnode in AWS Virginia syncs faster than the fullnode in Fremont**"
   ]
  }
 ],
 "metadata": {
  "kernelspec": {
   "display_name": "Python 3 (ipykernel)",
   "language": "python",
   "name": "python3"
  },
  "language_info": {
   "codemirror_mode": {
    "name": "ipython",
    "version": 3
   },
   "file_extension": ".py",
   "mimetype": "text/x-python",
   "name": "python",
   "nbconvert_exporter": "python",
   "pygments_lexer": "ipython3",
   "version": "3.8.11"
  }
 },
 "nbformat": 4,
 "nbformat_minor": 5
}
