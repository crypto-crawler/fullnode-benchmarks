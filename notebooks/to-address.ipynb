{
 "cells": [
  {
   "cell_type": "markdown",
   "id": "8c6669d7-969b-46d5-8221-d4a6525399cb",
   "metadata": {},
   "source": [
    "## To Address Analysis\n",
    "\n",
    "Find out top 2000 `to` addresses."
   ]
  },
  {
   "cell_type": "code",
   "execution_count": 1,
   "id": "1143c1ff-88b9-47d0-9a33-82dcdb45b685",
   "metadata": {},
   "outputs": [],
   "source": [
    "import gzip\n",
    "import json\n",
    "from json.decoder import JSONDecodeError\n",
    "import lzma\n",
    "import pandas as pd\n",
    "from typing import Any, Dict, List, Set, Tuple"
   ]
  },
  {
   "cell_type": "code",
   "execution_count": 2,
   "id": "8ef54ed6-1a61-444b-a168-d0e822b58a9d",
   "metadata": {},
   "outputs": [],
   "source": [
    "pd.io.json._json.loads = lambda s, *a, **kw: json.loads(s)"
   ]
  },
  {
   "cell_type": "markdown",
   "id": "9b31ceae-6b68-4bde-ad25-0f715125a87e",
   "metadata": {},
   "source": [
    "## Filter out useless data\n",
    "\n",
    "Transactions sent to tokens, pairs, routers and verified contracts are useless, we don't care about them."
   ]
  },
  {
   "cell_type": "code",
   "execution_count": 3,
   "id": "909f18a0-9010-4198-ae21-a4f46a5f900f",
   "metadata": {},
   "outputs": [],
   "source": [
    "def read_whitelist() -> Set[str]:\n",
    "    result = set()\n",
    "    with lzma.open('./data/bep20_tokens.json.xz', \"rt\") as f_in:\n",
    "        txt = f_in.read()\n",
    "        arr = json.loads(txt)\n",
    "        result.update(arr)\n",
    "    with lzma.open('./data/contracts_verified.json.xz', \"rt\") as f_in:\n",
    "        txt = f_in.read()\n",
    "        arr = json.loads(txt)\n",
    "        result.update(arr)\n",
    "\n",
    "    result.add('0x55d398326f99059ff775485246999027b3197955') # BNB\n",
    "    result.add('0xe9e7cea3dedca5984780bafc599bd69add087d56') # BUSD\n",
    "    result.add('0x10ed43c718714eb63d5aa57b78b54704e256024e') # pancakeswap\n",
    "    result.add('0x18b2a687610328590bc8f2e5fedde3b582a49cda') # PancakeSwap: Prediction V2\n",
    "    result.add('0x1b6c9c20693afde803b27f8782156c0f892abc2d') # FstswapRouter02\n",
    "    result.add('0x093c639e4291fbdcc339557accdaff52aaac37d9') # Fstswap Farm, see https://mobile.twitter.com/FstSwapbright/status/1519946172911079424\n",
    "    result.add('0x260e69ab6665b9ef67b60674e265b5d21c88cb45') # SecondLiveFactoryProxy\n",
    "    result.add('0x3a6d8ca21d1cf76f653a67577fa0d27453350dd8') # BiswapRouter02\n",
    "    result.add('0xffe811714ab35360b67ee195ace7c10d93f89d8c') # DRIP Faucet Proxy Contract, see https://cryptozoa.com/drip-how-to-have-fun-with-the-faucet-contract-89040160a3b6\n",
    "    result.add('0xe2d26507981a4daaaa8040bae1846c14e0fb56bf') # Baked Beans\n",
    "    return result"
   ]
  },
  {
   "cell_type": "code",
   "execution_count": 4,
   "id": "3ad4495b-b66e-4198-af5b-831a1ef2e1af",
   "metadata": {},
   "outputs": [],
   "source": [
    "def filtered_ratio(file: str) -> Tuple[int, int]:\n",
    "    whitelist = set(read_whitelist())\n",
    "    \n",
    "    total_count = 0\n",
    "    remaining = 0\n",
    "\n",
    "    # to -> count\n",
    "    counter: Dict[str, int] = {}\n",
    "    f_in = None\n",
    "    if file.endswith('.json'):\n",
    "        f_in = open(file, \"rt\")\n",
    "    elif file.endswith('.json.gz'):\n",
    "        f_in = gzip.open(file, \"rt\")\n",
    "    elif file.endswith('.json.xz'):\n",
    "        f_in = lzma.open(file, \"rt\")\n",
    "    else:\n",
    "        raise ValueError(file)\n",
    "    with f_in:\n",
    "        for line in f_in:\n",
    "            try:\n",
    "                obj = json.loads(line)\n",
    "                to = obj[\"txContents\"]['to']\n",
    "                total_count += 1\n",
    "                if to not in whitelist:\n",
    "                    remaining += 1\n",
    "            except JSONDecodeError as ex:\n",
    "                pass # ignore malformed lines\n",
    "    \n",
    "    return (total_count, remaining)"
   ]
  },
  {
   "cell_type": "code",
   "execution_count": 5,
   "id": "d96a1177-7eb2-4e78-a5ad-691e546cd7ce",
   "metadata": {},
   "outputs": [
    {
     "name": "stdout",
     "output_type": "stream",
     "text": [
      "CPU times: user 36.2 s, sys: 278 ms, total: 36.5 s\n",
      "Wall time: 36.5 s\n"
     ]
    },
    {
     "data": {
      "text/plain": [
       "(2010561, 1372622)"
      ]
     },
     "execution_count": 5,
     "metadata": {},
     "output_type": "execute_result"
    }
   ],
   "source": [
    "%%time\n",
    "filtered_ratio(\"./data/bloxroute-tx-gateway-virginia.json.xz\")"
   ]
  },
  {
   "cell_type": "markdown",
   "id": "97c55b8e-a5dc-4ad0-a72e-1733d48d3254",
   "metadata": {},
   "source": [
    "There are 2010561 lines, and 1372622 lines are not in the white list."
   ]
  },
  {
   "cell_type": "markdown",
   "id": "31847e52-3888-4c99-8251-3ab42ab45bbf",
   "metadata": {
    "tags": []
   },
   "source": [
    "## Histogram of `to`"
   ]
  },
  {
   "cell_type": "code",
   "execution_count": 6,
   "id": "116c4ea3-df80-488a-a954-88b7e6993ff6",
   "metadata": {},
   "outputs": [],
   "source": [
    "def read_to_count(file: str) -> Dict[str, int]:\n",
    "    whitelist = set(read_whitelist())\n",
    "\n",
    "    # to -> count\n",
    "    counter: Dict[str, int] = {}\n",
    "    f_in = None\n",
    "    if file.endswith('.json'):\n",
    "        f_in = open(file, \"rt\")\n",
    "    elif file.endswith('.json.gz'):\n",
    "        f_in = gzip.open(file, \"rt\")\n",
    "    elif file.endswith('.json.xz'):\n",
    "        f_in = lzma.open(file, \"rt\")\n",
    "    else:\n",
    "        raise ValueError(file)\n",
    "    with f_in:\n",
    "        for line in f_in:\n",
    "            try:\n",
    "                obj = json.loads(line)\n",
    "                to = obj[\"txContents\"]['to']\n",
    "                if to not in whitelist:\n",
    "                    if to in counter:\n",
    "                        counter[to] += 1\n",
    "                    else:\n",
    "                        counter[to] = 1\n",
    "            except JSONDecodeError as ex:\n",
    "                pass # ignore malformed lines\n",
    "    \n",
    "    return counter"
   ]
  },
  {
   "cell_type": "code",
   "execution_count": 7,
   "id": "a1050f3b-d583-4f9c-937e-d60f48db2b1a",
   "metadata": {},
   "outputs": [
    {
     "name": "stdout",
     "output_type": "stream",
     "text": [
      "CPU times: user 36.9 s, sys: 336 ms, total: 37.2 s\n",
      "Wall time: 37.2 s\n"
     ]
    }
   ],
   "source": [
    "%%time\n",
    "to_counter = read_to_count(\"./data/bloxroute-tx-gateway-virginia.json.xz\")"
   ]
  },
  {
   "cell_type": "code",
   "execution_count": 8,
   "id": "4c9973fb-3d2b-4727-aff4-bd99f5802fb4",
   "metadata": {},
   "outputs": [],
   "source": [
    "to_count_df = pd.DataFrame(to_counter.items(), columns=['to', 'count']).sort_values(by='count', ascending=False, ignore_index=True)"
   ]
  },
  {
   "cell_type": "code",
   "execution_count": 9,
   "id": "bb8bb678-0465-4483-8125-38840737391f",
   "metadata": {},
   "outputs": [
    {
     "data": {
      "text/html": [
       "<div>\n",
       "<style scoped>\n",
       "    .dataframe tbody tr th:only-of-type {\n",
       "        vertical-align: middle;\n",
       "    }\n",
       "\n",
       "    .dataframe tbody tr th {\n",
       "        vertical-align: top;\n",
       "    }\n",
       "\n",
       "    .dataframe thead th {\n",
       "        text-align: right;\n",
       "    }\n",
       "</style>\n",
       "<table border=\"1\" class=\"dataframe\">\n",
       "  <thead>\n",
       "    <tr style=\"text-align: right;\">\n",
       "      <th></th>\n",
       "      <th>to</th>\n",
       "      <th>count</th>\n",
       "    </tr>\n",
       "  </thead>\n",
       "  <tbody>\n",
       "    <tr>\n",
       "      <th>0</th>\n",
       "      <td>0xea046790029536f455042409a4c5f6d26f909cc1</td>\n",
       "      <td>33725</td>\n",
       "    </tr>\n",
       "    <tr>\n",
       "      <th>1</th>\n",
       "      <td>0x7000e50991946e78a7acae6016d87a38624bb8ab</td>\n",
       "      <td>32646</td>\n",
       "    </tr>\n",
       "    <tr>\n",
       "      <th>2</th>\n",
       "      <td>0x82610aa8eb74398420ebfc1254008e51ca32a746</td>\n",
       "      <td>22381</td>\n",
       "    </tr>\n",
       "    <tr>\n",
       "      <th>3</th>\n",
       "      <td>0xca4533591f5e5256f1bdb0f07fee3be76a1aae35</td>\n",
       "      <td>15606</td>\n",
       "    </tr>\n",
       "    <tr>\n",
       "      <th>4</th>\n",
       "      <td>0xfe702057bdd6e725d8372708d16143f6928b1383</td>\n",
       "      <td>14615</td>\n",
       "    </tr>\n",
       "    <tr>\n",
       "      <th>...</th>\n",
       "      <td>...</td>\n",
       "      <td>...</td>\n",
       "    </tr>\n",
       "    <tr>\n",
       "      <th>153560</th>\n",
       "      <td>0xba52c1006ea2a8ec1907063b9031a04d08662a21</td>\n",
       "      <td>1</td>\n",
       "    </tr>\n",
       "    <tr>\n",
       "      <th>153561</th>\n",
       "      <td>0x41490a43bab16bd701d11cd4ddaac103b6ecc74c</td>\n",
       "      <td>1</td>\n",
       "    </tr>\n",
       "    <tr>\n",
       "      <th>153562</th>\n",
       "      <td>0xb88c74f7071c37e18008adf8fdf1c06f12b64eb4</td>\n",
       "      <td>1</td>\n",
       "    </tr>\n",
       "    <tr>\n",
       "      <th>153563</th>\n",
       "      <td>0x2c6910a27041d2099b0f98f36b78845f848eef06</td>\n",
       "      <td>1</td>\n",
       "    </tr>\n",
       "    <tr>\n",
       "      <th>153564</th>\n",
       "      <td>0x3b6d3e5919b15853b205140e95a6d3b0dc32bae9</td>\n",
       "      <td>1</td>\n",
       "    </tr>\n",
       "  </tbody>\n",
       "</table>\n",
       "<p>153565 rows × 2 columns</p>\n",
       "</div>"
      ],
      "text/plain": [
       "                                                to  count\n",
       "0       0xea046790029536f455042409a4c5f6d26f909cc1  33725\n",
       "1       0x7000e50991946e78a7acae6016d87a38624bb8ab  32646\n",
       "2       0x82610aa8eb74398420ebfc1254008e51ca32a746  22381\n",
       "3       0xca4533591f5e5256f1bdb0f07fee3be76a1aae35  15606\n",
       "4       0xfe702057bdd6e725d8372708d16143f6928b1383  14615\n",
       "...                                            ...    ...\n",
       "153560  0xba52c1006ea2a8ec1907063b9031a04d08662a21      1\n",
       "153561  0x41490a43bab16bd701d11cd4ddaac103b6ecc74c      1\n",
       "153562  0xb88c74f7071c37e18008adf8fdf1c06f12b64eb4      1\n",
       "153563  0x2c6910a27041d2099b0f98f36b78845f848eef06      1\n",
       "153564  0x3b6d3e5919b15853b205140e95a6d3b0dc32bae9      1\n",
       "\n",
       "[153565 rows x 2 columns]"
      ]
     },
     "execution_count": 9,
     "metadata": {},
     "output_type": "execute_result"
    }
   ],
   "source": [
    "to_count_df"
   ]
  },
  {
   "cell_type": "code",
   "execution_count": 10,
   "id": "9d5aa6cc-6984-4aaf-a436-cc6df61966c1",
   "metadata": {},
   "outputs": [
    {
     "data": {
      "text/plain": [
       "<AxesSubplot:>"
      ]
     },
     "execution_count": 10,
     "metadata": {},
     "output_type": "execute_result"
    },
    {
     "data": {
      "image/png": "[encoded data removed]",
      "text/plain": [
       "<Figure size 432x288 with 1 Axes>"
      ]
     },
     "metadata": {
      "needs_background": "light"
     },
     "output_type": "display_data"
    }
   ],
   "source": [
    "to_count_df['count'].plot()"
   ]
  },
  {
   "cell_type": "code",
   "execution_count": 18,
   "id": "02ff2dfd-7c7b-4388-89c0-551880f4b1cd",
   "metadata": {},
   "outputs": [
    {
     "data": {
      "text/plain": [
       "<AxesSubplot:>"
      ]
     },
     "execution_count": 18,
     "metadata": {},
     "output_type": "execute_result"
    },
    {
     "data": {
      "image/png": "[encoded data removed]",
      "text/plain": [
       "<Figure size 432x288 with 1 Axes>"
      ]
     },
     "metadata": {
      "needs_background": "light"
     },
     "output_type": "display_data"
    }
   ],
   "source": [
    "to_count_df['count'].cumsum().plot()"
   ]
  },
  {
   "cell_type": "code",
   "execution_count": 19,
   "id": "fb263c20-5b36-475b-826c-a70b278d951a",
   "metadata": {},
   "outputs": [
    {
     "data": {
      "text/plain": [
       "count    153565.000000\n",
       "mean          8.938378\n",
       "std         197.942873\n",
       "min           1.000000\n",
       "10%           1.000000\n",
       "25%           1.000000\n",
       "50%           1.000000\n",
       "75%           1.000000\n",
       "90%           3.000000\n",
       "95%           8.000000\n",
       "99%          93.000000\n",
       "max       33725.000000\n",
       "Name: count, dtype: float64"
      ]
     },
     "execution_count": 19,
     "metadata": {},
     "output_type": "execute_result"
    }
   ],
   "source": [
    "to_count_df['count'].describe([0.1, 0.25, 0.5, 0.75, 0.9, 0.95, 0.99])"
   ]
  },
  {
   "cell_type": "code",
   "execution_count": 20,
   "id": "b72be6ba-18bf-4305-8792-5d2578fa4690",
   "metadata": {},
   "outputs": [],
   "source": [
    "filtered_df = to_count_df[to_count_df['count']>8]"
   ]
  },
  {
   "cell_type": "code",
   "execution_count": 21,
   "id": "8cd5c9bf-4b8c-4383-ade5-7f6395983d02",
   "metadata": {},
   "outputs": [
    {
     "data": {
      "text/html": [
       "<div>\n",
       "<style scoped>\n",
       "    .dataframe tbody tr th:only-of-type {\n",
       "        vertical-align: middle;\n",
       "    }\n",
       "\n",
       "    .dataframe tbody tr th {\n",
       "        vertical-align: top;\n",
       "    }\n",
       "\n",
       "    .dataframe thead th {\n",
       "        text-align: right;\n",
       "    }\n",
       "</style>\n",
       "<table border=\"1\" class=\"dataframe\">\n",
       "  <thead>\n",
       "    <tr style=\"text-align: right;\">\n",
       "      <th></th>\n",
       "      <th>to</th>\n",
       "      <th>count</th>\n",
       "    </tr>\n",
       "  </thead>\n",
       "  <tbody>\n",
       "    <tr>\n",
       "      <th>0</th>\n",
       "      <td>0xea046790029536f455042409a4c5f6d26f909cc1</td>\n",
       "      <td>33725</td>\n",
       "    </tr>\n",
       "    <tr>\n",
       "      <th>1</th>\n",
       "      <td>0x7000e50991946e78a7acae6016d87a38624bb8ab</td>\n",
       "      <td>32646</td>\n",
       "    </tr>\n",
       "    <tr>\n",
       "      <th>2</th>\n",
       "      <td>0x82610aa8eb74398420ebfc1254008e51ca32a746</td>\n",
       "      <td>22381</td>\n",
       "    </tr>\n",
       "    <tr>\n",
       "      <th>3</th>\n",
       "      <td>0xca4533591f5e5256f1bdb0f07fee3be76a1aae35</td>\n",
       "      <td>15606</td>\n",
       "    </tr>\n",
       "    <tr>\n",
       "      <th>4</th>\n",
       "      <td>0xfe702057bdd6e725d8372708d16143f6928b1383</td>\n",
       "      <td>14615</td>\n",
       "    </tr>\n",
       "    <tr>\n",
       "      <th>...</th>\n",
       "      <td>...</td>\n",
       "      <td>...</td>\n",
       "    </tr>\n",
       "    <tr>\n",
       "      <th>7359</th>\n",
       "      <td>0xf3278fa54b730723bd898c21dfd41b9cb89cb1b4</td>\n",
       "      <td>9</td>\n",
       "    </tr>\n",
       "    <tr>\n",
       "      <th>7360</th>\n",
       "      <td>0x088bebef4e371757509e64d3508b6da6f376e2ac</td>\n",
       "      <td>9</td>\n",
       "    </tr>\n",
       "    <tr>\n",
       "      <th>7361</th>\n",
       "      <td>0x11d20864cfe0e8fed15c10658c298572792dad65</td>\n",
       "      <td>9</td>\n",
       "    </tr>\n",
       "    <tr>\n",
       "      <th>7362</th>\n",
       "      <td>0x3b76374cc2dfe28cc373dca6d5024791b2586335</td>\n",
       "      <td>9</td>\n",
       "    </tr>\n",
       "    <tr>\n",
       "      <th>7363</th>\n",
       "      <td>0x2d0bf844d0edec6aa7ace14b9f1252654882b3d5</td>\n",
       "      <td>9</td>\n",
       "    </tr>\n",
       "  </tbody>\n",
       "</table>\n",
       "<p>7364 rows × 2 columns</p>\n",
       "</div>"
      ],
      "text/plain": [
       "                                              to  count\n",
       "0     0xea046790029536f455042409a4c5f6d26f909cc1  33725\n",
       "1     0x7000e50991946e78a7acae6016d87a38624bb8ab  32646\n",
       "2     0x82610aa8eb74398420ebfc1254008e51ca32a746  22381\n",
       "3     0xca4533591f5e5256f1bdb0f07fee3be76a1aae35  15606\n",
       "4     0xfe702057bdd6e725d8372708d16143f6928b1383  14615\n",
       "...                                          ...    ...\n",
       "7359  0xf3278fa54b730723bd898c21dfd41b9cb89cb1b4      9\n",
       "7360  0x088bebef4e371757509e64d3508b6da6f376e2ac      9\n",
       "7361  0x11d20864cfe0e8fed15c10658c298572792dad65      9\n",
       "7362  0x3b76374cc2dfe28cc373dca6d5024791b2586335      9\n",
       "7363  0x2d0bf844d0edec6aa7ace14b9f1252654882b3d5      9\n",
       "\n",
       "[7364 rows x 2 columns]"
      ]
     },
     "execution_count": 21,
     "metadata": {},
     "output_type": "execute_result"
    }
   ],
   "source": [
    "filtered_df"
   ]
  },
  {
   "cell_type": "code",
   "execution_count": 22,
   "id": "babcfa13-3c3a-4e41-b975-4aa7115f3a14",
   "metadata": {},
   "outputs": [
    {
     "data": {
      "text/plain": [
       "<AxesSubplot:>"
      ]
     },
     "execution_count": 22,
     "metadata": {},
     "output_type": "execute_result"
    },
    {
     "data": {
      "image/png": "[encoded data removed]",
      "text/plain": [
       "<Figure size 432x288 with 1 Axes>"
      ]
     },
     "metadata": {
      "needs_background": "light"
     },
     "output_type": "display_data"
    }
   ],
   "source": [
    "filtered_df['count'].plot()"
   ]
  },
  {
   "cell_type": "code",
   "execution_count": 23,
   "id": "3a94fb4c-eb6c-4d46-a71c-51b6e5e8a564",
   "metadata": {},
   "outputs": [
    {
     "data": {
      "text/plain": [
       "<AxesSubplot:>"
      ]
     },
     "execution_count": 23,
     "metadata": {},
     "output_type": "execute_result"
    },
    {
     "data": {
      "image/png": "[encoded data removed]",
      "text/plain": [
       "<Figure size 432x288 with 1 Axes>"
      ]
     },
     "metadata": {
      "needs_background": "light"
     },
     "output_type": "display_data"
    }
   ],
   "source": [
    "filtered_df['count'].cumsum().plot()"
   ]
  },
  {
   "cell_type": "markdown",
   "id": "ac8a1dae-d62e-4dcd-b3c3-6d7d70773e80",
   "metadata": {},
   "source": [
    "**Conclusion**: The first 1000 `to` addresses send most transactions, while the remaining addresses are retail users, who send very few transactions."
   ]
  }
 ],
 "metadata": {
  "kernelspec": {
   "display_name": "Python 3 (ipykernel)",
   "language": "python",
   "name": "python3"
  },
  "language_info": {
   "codemirror_mode": {
    "name": "ipython",
    "version": 3
   },
   "file_extension": ".py",
   "mimetype": "text/x-python",
   "name": "python",
   "nbconvert_exporter": "python",
   "pygments_lexer": "ipython3",
   "version": "3.8.11"
  }
 },
 "nbformat": 4,
 "nbformat_minor": 5
}
