{
 "cells": [
  {
   "cell_type": "markdown",
   "id": "96c46561-260c-4b55-86c0-cad3001b683f",
   "metadata": {
    "tags": []
   },
   "source": [
    "# Does the `--all-txs` flag help the fullnode to receive pending transactions faster?\n",
    "\n",
    "The bloXroute gateway docker container has a `--all-txs` flag, which can make the local gateway send all transactions to the local fullnode via the P2P connection. Without this flag only 10-20% transactions are sent to the fullnode.\n",
    "\n",
    "\n",
    "This notebook compares the effect of `--all-txs`.\n",
    "\n",
    "Steps:\n",
    "\n",
    "* First, start a local bloXroute gateway with the `--all-txs` flag, and run the [bloxroute_tx](https://github.com/crypto-crawler/fullnode-benchmarks/blob/main/cmd/bloxroute/tx/bloxroute_tx.go) and [fullnode_tx](https://github.com/crypto-crawler/fullnode-benchmarks/blob/main/cmd/fullnode/tx/fullnode_tx.go) to collect data\n",
    "* Second, stop the local gateway, and restart it without the `--all-txs` flag, then run `bloxroute_tx` and `fullnode_tx` to collect data again\n",
    "* Substract the `received_at` timestamp of txs with the same hash, we get to know the gap between with and without the flag.\n",
    "\n",
    "Hardware:\n",
    "\n",
    "* A machine with 128 cores, 256GB memory in a Fremont IDC\n",
    "* A `m5zn.3xlarge` instance in AWS Virginia regon\n",
    "\n",
    "Files:\n",
    "\n",
    "* `bloxroute-newtxs-cloud-fremont-with-gateway-all-txs.json.gz`, `bloxroute-newtxs-cloud-virginia-with-gateway-all-txs.json.gz`, `bloxroute-newtxs-gateway-fremont-all-txs.json.gz`, `bloxroute-newtxs-gateway-virginia-all-txs.json.gz`, `fullnode-tx-fremont-with-gateway-all-txs.json.gz` and `fullnode-tx-virginia-with-gateway-all-txs.json.gz` are generated in step 1\n",
    "* `bloxroute-newtxs-cloud-fremont-with-gateway.json.gz`, `fullnode-tx-fremont-with-gateway.json.gz` and `fullnode-tx-virginia-with-gateway.json.gz` are generated in step 2"
   ]
  },
  {
   "cell_type": "code",
   "execution_count": 1,
   "id": "a0afe14d-dbc2-4996-8e78-fa56045ead12",
   "metadata": {},
   "outputs": [],
   "source": [
    "import gzip\n",
    "import json\n",
    "import pandas as pd\n",
    "from typing import Dict"
   ]
  },
  {
   "cell_type": "code",
   "execution_count": 2,
   "id": "e8203b27-e2c2-4d14-aea5-3eab9a9ac3ca",
   "metadata": {},
   "outputs": [],
   "source": [
    "pd.io.json._json.loads = lambda s, *a, **kw: json.loads(s)"
   ]
  },
  {
   "cell_type": "code",
   "execution_count": 3,
   "id": "77d1e90b-ca40-4f49-9e76-2cf303e02587",
   "metadata": {},
   "outputs": [],
   "source": [
    "def read_timestamp(file: str) -> Dict[str, int]:\n",
    "    result: Dict[str, int] = {}  # hash -> received_at\n",
    "    f_in = gzip.open(file, \"rt\") if file.endswith('.json.gz') else open(file, \"rt\")\n",
    "    with f_in:\n",
    "        for line in f_in:\n",
    "            obj = json.loads(line)\n",
    "            if 'received_at' in obj:\n",
    "                if 'hash' in obj:  # fullnode\n",
    "                    result[obj['hash']] = obj['received_at']\n",
    "                elif 'txHash' in obj:  # bloXroute\n",
    "                    result[obj['txHash']] = obj['received_at']\n",
    "                else:\n",
    "                    raise ValueError(line)\n",
    "    return result"
   ]
  },
  {
   "cell_type": "code",
   "execution_count": 4,
   "id": "7cd1bac6-89b7-4bb9-86ba-f055c96b50f0",
   "metadata": {},
   "outputs": [],
   "source": [
    "def compare_timestamp(file1: str, file2: str) -> pd.DataFrame:\n",
    "    dict1 = read_timestamp(file1)\n",
    "    dict2 = read_timestamp(file2)\n",
    "    diff = {}\n",
    "    for tx_hash, received_at in dict1.items():\n",
    "        if tx_hash in dict2:\n",
    "            diff[tx_hash] = received_at-dict2[tx_hash]\n",
    "    \n",
    "    df = pd.DataFrame(diff.items(), columns=['tx_hash', 'gap'])\n",
    "    # remove outliers\n",
    "    quantile05 = df['gap'].quantile(0.05)\n",
    "    quantile95 = df['gap'].quantile(0.95)\n",
    "    return df[(df['gap'] >= quantile05) & (df['gap']<=quantile95)]"
   ]
  },
  {
   "cell_type": "markdown",
   "id": "d97a80f4-5e72-4686-865a-914bc0a79c85",
   "metadata": {},
   "source": [
    "## In Fremont IDC"
   ]
  },
  {
   "cell_type": "code",
   "execution_count": 5,
   "id": "a8d27205-8329-4d4f-b178-9d48a6de350e",
   "metadata": {},
   "outputs": [
    {
     "data": {
      "text/html": [
       "<div>\n",
       "<style scoped>\n",
       "    .dataframe tbody tr th:only-of-type {\n",
       "        vertical-align: middle;\n",
       "    }\n",
       "\n",
       "    .dataframe tbody tr th {\n",
       "        vertical-align: top;\n",
       "    }\n",
       "\n",
       "    .dataframe thead th {\n",
       "        text-align: right;\n",
       "    }\n",
       "</style>\n",
       "<table border=\"1\" class=\"dataframe\">\n",
       "  <thead>\n",
       "    <tr style=\"text-align: right;\">\n",
       "      <th></th>\n",
       "      <th>gap</th>\n",
       "    </tr>\n",
       "  </thead>\n",
       "  <tbody>\n",
       "    <tr>\n",
       "      <th>count</th>\n",
       "      <td>142864.000000</td>\n",
       "    </tr>\n",
       "    <tr>\n",
       "      <th>mean</th>\n",
       "      <td>-116.179996</td>\n",
       "    </tr>\n",
       "    <tr>\n",
       "      <th>std</th>\n",
       "      <td>174.895064</td>\n",
       "    </tr>\n",
       "    <tr>\n",
       "      <th>min</th>\n",
       "      <td>-612.000000</td>\n",
       "    </tr>\n",
       "    <tr>\n",
       "      <th>25%</th>\n",
       "      <td>-98.000000</td>\n",
       "    </tr>\n",
       "    <tr>\n",
       "      <th>50%</th>\n",
       "      <td>-52.000000</td>\n",
       "    </tr>\n",
       "    <tr>\n",
       "      <th>75%</th>\n",
       "      <td>-6.000000</td>\n",
       "    </tr>\n",
       "    <tr>\n",
       "      <th>max</th>\n",
       "      <td>26.000000</td>\n",
       "    </tr>\n",
       "  </tbody>\n",
       "</table>\n",
       "</div>"
      ],
      "text/plain": [
       "                 gap\n",
       "count  142864.000000\n",
       "mean     -116.179996\n",
       "std       174.895064\n",
       "min      -612.000000\n",
       "25%       -98.000000\n",
       "50%       -52.000000\n",
       "75%        -6.000000\n",
       "max        26.000000"
      ]
     },
     "execution_count": 5,
     "metadata": {},
     "output_type": "execute_result"
    }
   ],
   "source": [
    "compare_timestamp('./data/bloxroute-newtxs-cloud-fremont-with-gateway.json.gz', './data/fullnode-tx-fremont-with-gateway.json.gz').describe()"
   ]
  },
  {
   "cell_type": "code",
   "execution_count": 6,
   "id": "74dcd4e2-b63d-4d7e-b9f3-3037c4093487",
   "metadata": {},
   "outputs": [
    {
     "data": {
      "text/html": [
       "<div>\n",
       "<style scoped>\n",
       "    .dataframe tbody tr th:only-of-type {\n",
       "        vertical-align: middle;\n",
       "    }\n",
       "\n",
       "    .dataframe tbody tr th {\n",
       "        vertical-align: top;\n",
       "    }\n",
       "\n",
       "    .dataframe thead th {\n",
       "        text-align: right;\n",
       "    }\n",
       "</style>\n",
       "<table border=\"1\" class=\"dataframe\">\n",
       "  <thead>\n",
       "    <tr style=\"text-align: right;\">\n",
       "      <th></th>\n",
       "      <th>gap</th>\n",
       "    </tr>\n",
       "  </thead>\n",
       "  <tbody>\n",
       "    <tr>\n",
       "      <th>count</th>\n",
       "      <td>154234.000000</td>\n",
       "    </tr>\n",
       "    <tr>\n",
       "      <th>mean</th>\n",
       "      <td>-0.026369</td>\n",
       "    </tr>\n",
       "    <tr>\n",
       "      <th>std</th>\n",
       "      <td>3.257345</td>\n",
       "    </tr>\n",
       "    <tr>\n",
       "      <th>min</th>\n",
       "      <td>-3.000000</td>\n",
       "    </tr>\n",
       "    <tr>\n",
       "      <th>25%</th>\n",
       "      <td>-2.000000</td>\n",
       "    </tr>\n",
       "    <tr>\n",
       "      <th>50%</th>\n",
       "      <td>-1.000000</td>\n",
       "    </tr>\n",
       "    <tr>\n",
       "      <th>75%</th>\n",
       "      <td>0.000000</td>\n",
       "    </tr>\n",
       "    <tr>\n",
       "      <th>max</th>\n",
       "      <td>19.000000</td>\n",
       "    </tr>\n",
       "  </tbody>\n",
       "</table>\n",
       "</div>"
      ],
      "text/plain": [
       "                 gap\n",
       "count  154234.000000\n",
       "mean       -0.026369\n",
       "std         3.257345\n",
       "min        -3.000000\n",
       "25%        -2.000000\n",
       "50%        -1.000000\n",
       "75%         0.000000\n",
       "max        19.000000"
      ]
     },
     "execution_count": 6,
     "metadata": {},
     "output_type": "execute_result"
    }
   ],
   "source": [
    "compare_timestamp('./data/bloxroute-newtxs-cloud-fremont-with-gateway-all-txs.json.gz', './data/fullnode-tx-fremont-with-gateway-all-txs.json.gz').describe()"
   ]
  },
  {
   "cell_type": "markdown",
   "id": "5719fa21-8691-4e2b-a9c0-0f9644b30b9c",
   "metadata": {},
   "source": [
    "**Conclusion: The cloud API is 52ms faster than the fullnode without `--all-txs`, and 1ms faster than the fullnode with `--all-txs`, which means the fullnode is 51ms faster after the `--all-txs` flag is on.**"
   ]
  },
  {
   "cell_type": "markdown",
   "id": "bf15ac61-f8a4-4a1a-8476-3db658f00a60",
   "metadata": {},
   "source": [
    "## In AWS Virginia"
   ]
  },
  {
   "cell_type": "code",
   "execution_count": 7,
   "id": "fd58b708-e8c5-4048-91c0-78f2880bacc9",
   "metadata": {},
   "outputs": [
    {
     "data": {
      "text/html": [
       "<div>\n",
       "<style scoped>\n",
       "    .dataframe tbody tr th:only-of-type {\n",
       "        vertical-align: middle;\n",
       "    }\n",
       "\n",
       "    .dataframe tbody tr th {\n",
       "        vertical-align: top;\n",
       "    }\n",
       "\n",
       "    .dataframe thead th {\n",
       "        text-align: right;\n",
       "    }\n",
       "</style>\n",
       "<table border=\"1\" class=\"dataframe\">\n",
       "  <thead>\n",
       "    <tr style=\"text-align: right;\">\n",
       "      <th></th>\n",
       "      <th>gap</th>\n",
       "    </tr>\n",
       "  </thead>\n",
       "  <tbody>\n",
       "    <tr>\n",
       "      <th>count</th>\n",
       "      <td>143942.000000</td>\n",
       "    </tr>\n",
       "    <tr>\n",
       "      <th>mean</th>\n",
       "      <td>-214.868211</td>\n",
       "    </tr>\n",
       "    <tr>\n",
       "      <th>std</th>\n",
       "      <td>213.300921</td>\n",
       "    </tr>\n",
       "    <tr>\n",
       "      <th>min</th>\n",
       "      <td>-599.000000</td>\n",
       "    </tr>\n",
       "    <tr>\n",
       "      <th>25%</th>\n",
       "      <td>-443.000000</td>\n",
       "    </tr>\n",
       "    <tr>\n",
       "      <th>50%</th>\n",
       "      <td>-116.000000</td>\n",
       "    </tr>\n",
       "    <tr>\n",
       "      <th>75%</th>\n",
       "      <td>-10.000000</td>\n",
       "    </tr>\n",
       "    <tr>\n",
       "      <th>max</th>\n",
       "      <td>17.000000</td>\n",
       "    </tr>\n",
       "  </tbody>\n",
       "</table>\n",
       "</div>"
      ],
      "text/plain": [
       "                 gap\n",
       "count  143942.000000\n",
       "mean     -214.868211\n",
       "std       213.300921\n",
       "min      -599.000000\n",
       "25%      -443.000000\n",
       "50%      -116.000000\n",
       "75%       -10.000000\n",
       "max        17.000000"
      ]
     },
     "execution_count": 7,
     "metadata": {},
     "output_type": "execute_result"
    }
   ],
   "source": [
    "compare_timestamp('./data/bloxroute-newtxs-cloud-virginia-with-gateway.json.gz', './data/fullnode-tx-virginia-with-gateway.json.gz').describe()"
   ]
  },
  {
   "cell_type": "code",
   "execution_count": 8,
   "id": "7c2b471c-aab4-4759-a68e-a568e9f6f39c",
   "metadata": {},
   "outputs": [
    {
     "data": {
      "text/html": [
       "<div>\n",
       "<style scoped>\n",
       "    .dataframe tbody tr th:only-of-type {\n",
       "        vertical-align: middle;\n",
       "    }\n",
       "\n",
       "    .dataframe tbody tr th {\n",
       "        vertical-align: top;\n",
       "    }\n",
       "\n",
       "    .dataframe thead th {\n",
       "        text-align: right;\n",
       "    }\n",
       "</style>\n",
       "<table border=\"1\" class=\"dataframe\">\n",
       "  <thead>\n",
       "    <tr style=\"text-align: right;\">\n",
       "      <th></th>\n",
       "      <th>gap</th>\n",
       "    </tr>\n",
       "  </thead>\n",
       "  <tbody>\n",
       "    <tr>\n",
       "      <th>count</th>\n",
       "      <td>152327.000000</td>\n",
       "    </tr>\n",
       "    <tr>\n",
       "      <th>mean</th>\n",
       "      <td>0.919732</td>\n",
       "    </tr>\n",
       "    <tr>\n",
       "      <th>std</th>\n",
       "      <td>3.934429</td>\n",
       "    </tr>\n",
       "    <tr>\n",
       "      <th>min</th>\n",
       "      <td>-3.000000</td>\n",
       "    </tr>\n",
       "    <tr>\n",
       "      <th>25%</th>\n",
       "      <td>-1.000000</td>\n",
       "    </tr>\n",
       "    <tr>\n",
       "      <th>50%</th>\n",
       "      <td>0.000000</td>\n",
       "    </tr>\n",
       "    <tr>\n",
       "      <th>75%</th>\n",
       "      <td>1.000000</td>\n",
       "    </tr>\n",
       "    <tr>\n",
       "      <th>max</th>\n",
       "      <td>25.000000</td>\n",
       "    </tr>\n",
       "  </tbody>\n",
       "</table>\n",
       "</div>"
      ],
      "text/plain": [
       "                 gap\n",
       "count  152327.000000\n",
       "mean        0.919732\n",
       "std         3.934429\n",
       "min        -3.000000\n",
       "25%        -1.000000\n",
       "50%         0.000000\n",
       "75%         1.000000\n",
       "max        25.000000"
      ]
     },
     "execution_count": 8,
     "metadata": {},
     "output_type": "execute_result"
    }
   ],
   "source": [
    "compare_timestamp('./data/bloxroute-newtxs-cloud-virginia-with-gateway-all-txs.json.gz', './data/fullnode-tx-virginia-with-gateway-all-txs.json.gz').describe()"
   ]
  },
  {
   "cell_type": "markdown",
   "id": "da529588-1bec-4da1-b868-a95671eb68cf",
   "metadata": {},
   "source": [
    "**Conclusion: The cloud API is 116ms faster than the fullnode without `--all-txs`, and 0.0ms faster than the fullnode with `--all-txs`, which means the fullnode is 116ms faster after the `--all-txs` flag is on.**"
   ]
  },
  {
   "cell_type": "markdown",
   "id": "851e9a58-44e9-4f8d-899b-c7238ffa4724",
   "metadata": {},
   "source": [
    "## Conclusion"
   ]
  },
  {
   "cell_type": "markdown",
   "id": "d7741929-3251-49df-a75d-a415978a3a01",
   "metadata": {},
   "source": [
    "**Overall, the `--all-txs` flag significantly help the local fullnode sync faster.** Note one sideeffect is that the fullnode consumes more CPU and memory."
   ]
  },
  {
   "cell_type": "markdown",
   "id": "4ba0c1df-3f89-4784-994b-092b17446d2a",
   "metadata": {},
   "source": [
    "Gaps: Virginia gateway with `--all-txs` -> 1ms -> Virginia fullnode with gateway and `--all-txs` -> 0 -> Virginia Cloud -> 27ms -> Fremont gateway with `--all-txs` -> 0 -> Fremont Cloud -> 1ms -> Fremont fullnode with gateway and `--all-txs`"
   ]
  }
 ],
 "metadata": {
  "kernelspec": {
   "display_name": "Python 3 (ipykernel)",
   "language": "python",
   "name": "python3"
  },
  "language_info": {
   "codemirror_mode": {
    "name": "ipython",
    "version": 3
   },
   "file_extension": ".py",
   "mimetype": "text/x-python",
   "name": "python",
   "nbconvert_exporter": "python",
   "pygments_lexer": "ipython3",
   "version": "3.8.11"
  }
 },
 "nbformat": 4,
 "nbformat_minor": 5
}
